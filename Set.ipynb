{
  "nbformat": 4,
  "nbformat_minor": 0,
  "metadata": {
    "colab": {
      "provenance": [],
      "authorship_tag": "ABX9TyOnagiEU/dkE9Eb812328s3",
      "include_colab_link": true
    },
    "kernelspec": {
      "name": "python3",
      "display_name": "Python 3"
    },
    "language_info": {
      "name": "python"
    }
  },
  "cells": [
    {
      "cell_type": "markdown",
      "metadata": {
        "id": "view-in-github",
        "colab_type": "text"
      },
      "source": [
        "<a href=\"https://colab.research.google.com/github/ramdgupta/python/blob/main/Set.ipynb\" target=\"_parent\"><img src=\"https://colab.research.google.com/assets/colab-badge.svg\" alt=\"Open In Colab\"/></a>"
      ]
    },
    {
      "cell_type": "code",
      "execution_count": null,
      "metadata": {
        "colab": {
          "base_uri": "https://localhost:8080/"
        },
        "id": "KIK6X508kGCs",
        "outputId": "7ce64716-2b1b-4268-a653-00e3b52da252"
      },
      "outputs": [
        {
          "output_type": "stream",
          "name": "stdout",
          "text": [
            "10\n",
            "<class 'int'>\n"
          ]
        }
      ],
      "source": [
        "'''Integer Data type'''\n",
        "x=10 # int x=10\n",
        "print(x)\n",
        "print(type(x))"
      ]
    },
    {
      "cell_type": "code",
      "source": [
        "'''Float'''\n",
        "y=10.57\n",
        "print(y)\n",
        "print(type(y))"
      ],
      "metadata": {
        "colab": {
          "base_uri": "https://localhost:8080/"
        },
        "id": "hnhAKm-SlKyV",
        "outputId": "0999945a-b00e-4f6d-c2bb-375b5681f170"
      },
      "execution_count": null,
      "outputs": [
        {
          "output_type": "stream",
          "name": "stdout",
          "text": [
            "10.57\n",
            "<class 'float'>\n"
          ]
        }
      ]
    },
    {
      "cell_type": "code",
      "source": [
        "'''String method'''\n",
        "z=\"Hello friend\"\n",
        "print(z)\n",
        "print(type(z))"
      ],
      "metadata": {
        "colab": {
          "base_uri": "https://localhost:8080/"
        },
        "id": "I4TFswiSm2eF",
        "outputId": "0323a643-695f-4968-905c-83c17a530f06"
      },
      "execution_count": null,
      "outputs": [
        {
          "output_type": "stream",
          "name": "stdout",
          "text": [
            "Hello friend\n",
            "<class 'str'>\n"
          ]
        }
      ]
    },
    {
      "cell_type": "code",
      "source": [
        "c =\"H\"\n",
        "print(c)\n",
        "print(type(c))"
      ],
      "metadata": {
        "colab": {
          "base_uri": "https://localhost:8080/"
        },
        "id": "1awyeHK8mWO6",
        "outputId": "488f026c-d8bd-43ed-ded2-b58882a67101"
      },
      "execution_count": null,
      "outputs": [
        {
          "output_type": "stream",
          "name": "stdout",
          "text": [
            "H\n",
            "<class 'str'>\n"
          ]
        }
      ]
    },
    {
      "cell_type": "code",
      "source": [
        "'''Boolean Data Type'''\n",
        "q=True\n",
        "print(q)\n",
        "print(type(q))"
      ],
      "metadata": {
        "colab": {
          "base_uri": "https://localhost:8080/"
        },
        "id": "U1EGoVwXnKzM",
        "outputId": "7c1d08e9-9236-41d7-ad82-677096ca68e3"
      },
      "execution_count": null,
      "outputs": [
        {
          "output_type": "stream",
          "name": "stdout",
          "text": [
            "True\n",
            "<class 'bool'>\n"
          ]
        }
      ]
    },
    {
      "cell_type": "code",
      "source": [
        "# list, set tuple and dictionary\n"
      ],
      "metadata": {
        "id": "73jRGLQnpgwG"
      },
      "execution_count": null,
      "outputs": []
    },
    {
      "cell_type": "code",
      "source": [
        "newlist =[45,67,89,11,45,89,\"Hello friend\", 45,.56, True, 'H', 4+67]\n",
        "print(newlist)\n",
        "print(type(newlist))"
      ],
      "metadata": {
        "colab": {
          "base_uri": "https://localhost:8080/"
        },
        "id": "4GnNgszoplfm",
        "outputId": "59adc9a0-c433-4432-c343-1ada13271a13"
      },
      "execution_count": null,
      "outputs": [
        {
          "output_type": "stream",
          "name": "stdout",
          "text": [
            "[45, 67, 89, 11, 45, 89, 'Hello friend', 45, 0.56, True, 'H', 71]\n",
            "<class 'list'>\n"
          ]
        }
      ]
    },
    {
      "cell_type": "code",
      "source": [
        "print(newlist[3])"
      ],
      "metadata": {
        "colab": {
          "base_uri": "https://localhost:8080/"
        },
        "id": "qZ4PV4VQqaSE",
        "outputId": "17b1e1b9-c206-4197-b31d-ebb81e76c86b"
      },
      "execution_count": null,
      "outputs": [
        {
          "output_type": "stream",
          "name": "stdout",
          "text": [
            "11\n"
          ]
        }
      ]
    },
    {
      "cell_type": "code",
      "source": [
        "newlist[3] = 100.45\n",
        "print(newlist[3])\n"
      ],
      "metadata": {
        "colab": {
          "base_uri": "https://localhost:8080/"
        },
        "id": "NSOeeLrXqrTB",
        "outputId": "06ba4eb4-91e7-4604-c667-f0285991b7d4"
      },
      "execution_count": null,
      "outputs": [
        {
          "output_type": "stream",
          "name": "stdout",
          "text": [
            "100.45\n"
          ]
        }
      ]
    },
    {
      "cell_type": "code",
      "source": [
        "newlist.sort()\n",
        "\n"
      ],
      "metadata": {
        "colab": {
          "base_uri": "https://localhost:8080/",
          "height": 159
        },
        "id": "oIZwZeRWsPuz",
        "outputId": "5a85b0bb-ba0a-4722-eb75-fb79a84cadde"
      },
      "execution_count": null,
      "outputs": [
        {
          "output_type": "error",
          "ename": "TypeError",
          "evalue": "'<' not supported between instances of 'str' and 'int'",
          "traceback": [
            "\u001b[0;31m---------------------------------------------------------------------------\u001b[0m",
            "\u001b[0;31mTypeError\u001b[0m                                 Traceback (most recent call last)",
            "\u001b[0;32m<ipython-input-10-40d01a0bde04>\u001b[0m in \u001b[0;36m<cell line: 1>\u001b[0;34m()\u001b[0m\n\u001b[0;32m----> 1\u001b[0;31m \u001b[0mnewlist\u001b[0m\u001b[0;34m.\u001b[0m\u001b[0msort\u001b[0m\u001b[0;34m(\u001b[0m\u001b[0;34m)\u001b[0m\u001b[0;34m\u001b[0m\u001b[0;34m\u001b[0m\u001b[0m\n\u001b[0m\u001b[1;32m      2\u001b[0m \u001b[0;34m\u001b[0m\u001b[0m\n",
            "\u001b[0;31mTypeError\u001b[0m: '<' not supported between instances of 'str' and 'int'"
          ]
        }
      ]
    },
    {
      "cell_type": "code",
      "source": [
        "newlist.pop()\n"
      ],
      "metadata": {
        "id": "1VOzpUTNqz3S"
      },
      "execution_count": null,
      "outputs": []
    },
    {
      "cell_type": "code",
      "source": [
        "newlist.sort\n",
        "\n"
      ],
      "metadata": {
        "id": "7JOQdcgfskeJ"
      },
      "execution_count": null,
      "outputs": []
    },
    {
      "cell_type": "code",
      "source": [
        "print(newlist)"
      ],
      "metadata": {
        "id": "5jn0cO7hq93f"
      },
      "execution_count": null,
      "outputs": []
    },
    {
      "cell_type": "code",
      "source": [
        "newlist.remove(89)"
      ],
      "metadata": {
        "id": "fJTxyaeyrUIe"
      },
      "execution_count": null,
      "outputs": []
    },
    {
      "cell_type": "code",
      "source": [
        "newlist"
      ],
      "metadata": {
        "id": "k7W9fd_vrZQV"
      },
      "execution_count": null,
      "outputs": []
    },
    {
      "cell_type": "code",
      "source": [
        "newlist.remove(89)"
      ],
      "metadata": {
        "id": "Wia5zDi4rrFg"
      },
      "execution_count": null,
      "outputs": []
    },
    {
      "cell_type": "code",
      "source": [
        "newlist"
      ],
      "metadata": {
        "id": "bbNui5Zvrt1Y"
      },
      "execution_count": null,
      "outputs": []
    },
    {
      "cell_type": "code",
      "source": [
        "newlist.append(90)"
      ],
      "metadata": {
        "id": "1vU1TJSgrwWp"
      },
      "execution_count": null,
      "outputs": []
    },
    {
      "cell_type": "code",
      "source": [
        "newlist"
      ],
      "metadata": {
        "id": "tc9tHXrrrzwm"
      },
      "execution_count": null,
      "outputs": []
    },
    {
      "cell_type": "code",
      "source": [
        "#touple\n",
        "\n"
      ],
      "metadata": {
        "id": "jQq6j59HsRxg"
      },
      "execution_count": null,
      "outputs": []
    },
    {
      "cell_type": "code",
      "source": [
        "newtpl = (56,45,45,77,54,77)\n",
        "newtpl"
      ],
      "metadata": {
        "id": "PR4FgKD-stn1"
      },
      "execution_count": null,
      "outputs": []
    },
    {
      "cell_type": "code",
      "source": [
        "newtpl[1]"
      ],
      "metadata": {
        "id": "UIh7bqvqtDrc"
      },
      "execution_count": null,
      "outputs": []
    },
    {
      "cell_type": "code",
      "source": [],
      "metadata": {
        "id": "qkpijmUbtVF-"
      },
      "execution_count": null,
      "outputs": []
    },
    {
      "cell_type": "code",
      "source": [
        "newtpl[0]=100"
      ],
      "metadata": {
        "id": "uNThG-A6tZtW"
      },
      "execution_count": null,
      "outputs": []
    },
    {
      "cell_type": "code",
      "source": [
        "newtpl.count(77)"
      ],
      "metadata": {
        "id": "4JVrR44Lte2-"
      },
      "execution_count": null,
      "outputs": []
    },
    {
      "cell_type": "code",
      "source": [
        "newtpl.index(77)"
      ],
      "metadata": {
        "id": "wW9mm9ZTvCkl"
      },
      "execution_count": null,
      "outputs": []
    },
    {
      "cell_type": "code",
      "source": [
        "# dictionary"
      ],
      "metadata": {
        "id": "nSQvCcUlxCvt"
      },
      "execution_count": null,
      "outputs": []
    },
    {
      "cell_type": "code",
      "source": [
        "newdict ={\"friend\": 56, 45:56.67}\n",
        "newdict\n"
      ],
      "metadata": {
        "id": "3-OFfck4wqsH"
      },
      "execution_count": null,
      "outputs": []
    },
    {
      "cell_type": "code",
      "source": [
        "newdict[\"meloni\"] = 2\n",
        "newdict"
      ],
      "metadata": {
        "id": "1opximlYw5HC"
      },
      "execution_count": null,
      "outputs": []
    },
    {
      "cell_type": "code",
      "source": [
        "newdict[\"Meloni\"] = 29\n",
        "newdict"
      ],
      "metadata": {
        "id": "RyoMSUiHw-wb"
      },
      "execution_count": null,
      "outputs": []
    },
    {
      "cell_type": "code",
      "source": [
        "newdict[67] =\"friend\"\n",
        "newdict\n"
      ],
      "metadata": {
        "id": "xc7XINkdxLYH"
      },
      "execution_count": null,
      "outputs": []
    },
    {
      "cell_type": "code",
      "source": [
        "newdict[1]\n",
        "newdict"
      ],
      "metadata": {
        "id": "tPNygVRpxpFI"
      },
      "execution_count": null,
      "outputs": []
    },
    {
      "cell_type": "code",
      "source": [
        "newdict['meloni']\n"
      ],
      "metadata": {
        "id": "S0nCw5Mlxzmm"
      },
      "execution_count": null,
      "outputs": []
    },
    {
      "cell_type": "code",
      "source": [
        "newdict.keys()"
      ],
      "metadata": {
        "id": "i1dUwg6Zxqyu"
      },
      "execution_count": null,
      "outputs": []
    },
    {
      "cell_type": "code",
      "source": [
        "newdict.values()"
      ],
      "metadata": {
        "id": "Gbsx2svEyK-H"
      },
      "execution_count": null,
      "outputs": []
    },
    {
      "cell_type": "code",
      "source": [
        "newdict.items()\n"
      ],
      "metadata": {
        "id": "0pOVSLbwyPSE"
      },
      "execution_count": null,
      "outputs": []
    },
    {
      "cell_type": "code",
      "source": [
        "#Exercise 1: Calculate the multiplication and sum of two numbers\n",
        "#Given two integer numbers, return their product only if the product is equal to or lower than 1000. Otherwise, return their sum.\n",
        "\n",
        "def multiplication_or_sum(num1, num2) :\n",
        "  # calculate product of two number\n",
        "  pd = num1* num2\n",
        "  # check if product is less then 1000\n",
        "  if(pd<=1000) :\n",
        "    return pd\n",
        "  # product is greater than 1000 calculate sum\n",
        "  else :\n",
        "    return num1 + num2\n",
        "# first condition\n",
        "result = multiplication_or_sum(100, 200)\n",
        "print(\"The result is :\", result )\n",
        "# Second condition\n",
        "result = multiplication_or_sum(10,20)\n",
        "print(\"The result is :\", result)\n"
      ],
      "metadata": {
        "id": "9m-E8H7V0YFy"
      },
      "execution_count": null,
      "outputs": []
    },
    {
      "cell_type": "code",
      "source": [
        "#Exercise 2: Print the sum of the current number and the previous number\n",
        "#Write a program to iterate the first 10 numbers, and in each iteration, print the sum of the current and previous number.\n",
        "print(\"Printing current and previous number and their sum in a range(10)\")\n",
        "previous_num=0\n",
        "for i in range(1,11) :\n",
        "  sum = previous_num + i\n",
        "  print(\"Current Number\", i, \"Previous Number \", previous_num, \" Sum: \", sum)\n",
        "  # modify previous number\n",
        "  # set it to the current number\n",
        "  previous_num=i\n",
        "\n"
      ],
      "metadata": {
        "id": "Vt0di5S2Ct3h"
      },
      "execution_count": null,
      "outputs": []
    },
    {
      "cell_type": "code",
      "source": [
        "#Exercise 3: Print characters from a string that are present at an even index number\n",
        "#Write a program to accept a string from the user and display characters that are present at an even index number.\n",
        "# accept input string from a user\n",
        "word = input('Enter word ')\n",
        "print(\"Original String:\", word)\n",
        "\n",
        "# get the length of a string\n",
        "length = len(word)\n",
        "\n",
        "# iterate a each character of a string\n",
        "# start: 0 to start with first character\n",
        "# stop: size-1 because index starts with 0\n",
        "# step: 2 to get the characters present at even index like 0, 2, 4\n",
        "print(\"Printing only even index chars\")\n",
        "for i in range(0, length - 1, 2):\n",
        "    print(\"index[\", i, \"]\", word[i])\n"
      ],
      "metadata": {
        "id": "YMZUr4HWF7Fm"
      },
      "execution_count": null,
      "outputs": []
    },
    {
      "cell_type": "code",
      "source": [
        "#Exercise 4: Remove first n characters from a string\n",
        "#Write a program to remove characters from a string starting from zero up to n and return a new string.\n",
        "#create a function removeNCharInString\n",
        "def remove_chars(word,n):\n",
        "  print('Original string :', word)\n",
        "  x=word[n:]\n",
        "  return x\n",
        "print(\"Removing characters from a string: \")\n",
        "print(remove_chars(\"RamDulare\", 4))\n",
        "print(remove_chars(\"RamDulare\", 2))\n"
      ],
      "metadata": {
        "colab": {
          "base_uri": "https://localhost:8080/"
        },
        "id": "OCVNoZZnElwl",
        "outputId": "192c0544-7d12-47b8-dd43-b7c0aa1e7b90"
      },
      "execution_count": null,
      "outputs": [
        {
          "output_type": "stream",
          "name": "stdout",
          "text": [
            "Removing characters from a string: \n",
            "Original string : RamDulare\n",
            "ulare\n",
            "Original string : RamDulare\n",
            "mDulare\n"
          ]
        }
      ]
    },
    {
      "cell_type": "code",
      "source": [
        "print(\"chai and code\")"
      ],
      "metadata": {
        "colab": {
          "base_uri": "https://localhost:8080/"
        },
        "id": "yHFfgMqB6QYc",
        "outputId": "4266a5e4-bf1d-46f9-b06e-894ac94e4e1e"
      },
      "execution_count": null,
      "outputs": [
        {
          "output_type": "stream",
          "name": "stdout",
          "text": [
            "chai and code\n"
          ]
        }
      ]
    },
    {
      "cell_type": "code",
      "source": [
        "#list Data type\n",
        "newlist =[\"George\", \"Ravi\", \"Prema\", \"Caroline\", \"Prema\"]\n",
        "print(newlist)\n",
        "name = input(\"Give your name: \")\n",
        "if name in newlist :\n",
        "  print(\"You are Welcome \")\n",
        "else:\n",
        "  print(\"Let us see next time \")\n"
      ],
      "metadata": {
        "id": "wbSn6xzx1K7P",
        "outputId": "036ad677-3d66-444f-9d81-8c433ca733d9",
        "colab": {
          "base_uri": "https://localhost:8080/"
        }
      },
      "execution_count": null,
      "outputs": [
        {
          "output_type": "stream",
          "name": "stdout",
          "text": [
            "['George', 'Ravi', 'Prema', 'Caroline', 'Prema']\n",
            "Give your name: Ravi\n",
            "You are Welcome \n"
          ]
        }
      ]
    },
    {
      "cell_type": "code",
      "source": [
        "#Set data type\n",
        "newlist ={\"George\", \"Ravi\", \"Prema\", \"Caroline\", \"Prema\"}\n",
        "print(newlist)\n",
        "name = input(\"Give your name: \")\n",
        "\n",
        "if name in newlist :\n",
        "  print(\"You are Welcome \")\n",
        "else:\n",
        "  print(\"Let us see next time \")\n",
        "\n"
      ],
      "metadata": {
        "id": "7QsWyd7011ze",
        "outputId": "027adda3-c766-490d-bccf-ad7bfa8031e2",
        "colab": {
          "base_uri": "https://localhost:8080/"
        }
      },
      "execution_count": null,
      "outputs": [
        {
          "output_type": "stream",
          "name": "stdout",
          "text": [
            "{'Caroline', 'George', 'Ravi', 'Prema'}\n",
            "Give your name: Ravi\n",
            "You are Welcome \n"
          ]
        }
      ]
    },
    {
      "cell_type": "code",
      "source": [
        "#create a prime sequence\n",
        "#range\n",
        "for val in range(1,10):\n",
        "  print(val, end=\" \")\n"
      ],
      "metadata": {
        "id": "GI68QLMg2MPk",
        "outputId": "ca68ffad-9c51-4248-e049-5d6c98e0bf37",
        "colab": {
          "base_uri": "https://localhost:8080/"
        }
      },
      "execution_count": null,
      "outputs": [
        {
          "output_type": "stream",
          "name": "stdout",
          "text": [
            "1 2 3 4 5 6 7 8 9 "
          ]
        }
      ]
    },
    {
      "cell_type": "code",
      "source": [
        "#create a even sequence\n",
        "#range\n",
        "for val in range(0,10):\n",
        "  if val % 2 ==0 :\n",
        "    print(val, end=\" \")"
      ],
      "metadata": {
        "id": "I11DVJYe6jiP",
        "outputId": "23e0977e-5bcf-4ae8-8f4d-2d096b8f7f0f",
        "colab": {
          "base_uri": "https://localhost:8080/"
        }
      },
      "execution_count": null,
      "outputs": [
        {
          "output_type": "stream",
          "name": "stdout",
          "text": [
            "0 2 4 6 8 "
          ]
        }
      ]
    },
    {
      "cell_type": "code",
      "source": [],
      "metadata": {
        "id": "Xqnz-lAQ8EDS"
      },
      "execution_count": null,
      "outputs": []
    },
    {
      "cell_type": "code",
      "source": [
        "#printing only the odd no\n",
        "for val in range(0,11):\n",
        "  if val % 2 !=0 :\n",
        "    print(val, end=\" \")"
      ],
      "metadata": {
        "id": "dRMf_0Ju7f91",
        "outputId": "92d2b321-0310-4347-acaf-44108e56bb22",
        "colab": {
          "base_uri": "https://localhost:8080/"
        }
      },
      "execution_count": null,
      "outputs": [
        {
          "output_type": "stream",
          "name": "stdout",
          "text": [
            "1 3 5 7 9 "
          ]
        }
      ]
    },
    {
      "cell_type": "code",
      "source": [
        "# prime number sequence\n",
        "for val in range(2, 101):\n",
        "  flag=0\n",
        "  for num in range(2, val):\n",
        "    if val % num == 0:\n",
        "      flag=1\n",
        "      break\n",
        "  if flag == 0 :\n",
        "    print(val,end=\" \")"
      ],
      "metadata": {
        "id": "gRssJVpB8Fpc",
        "outputId": "7a27a5f1-9775-4ea6-b851-de3b87f4173e",
        "colab": {
          "base_uri": "https://localhost:8080/"
        }
      },
      "execution_count": null,
      "outputs": [
        {
          "output_type": "stream",
          "name": "stdout",
          "text": [
            "2 3 5 7 11 13 17 19 23 29 31 37 41 43 47 53 59 61 67 71 73 79 83 89 97 "
          ]
        }
      ]
    },
    {
      "cell_type": "code",
      "source": [
        "# prime number sequence\n",
        "for val in range(2, 101):\n",
        "  for num in range(2, val):\n",
        "    if val % num == 0:\n",
        "      break\n",
        "  # this is floating else it's  featuere of python\n",
        "  #the else is outside but it's thinking it's inside for loop\n",
        "  else:\n",
        "    print(val,end=\" \")"
      ],
      "metadata": {
        "id": "RL5wwxqq-7FH",
        "outputId": "08b24cbe-1063-46c7-cfb4-07a8e30e65c3",
        "colab": {
          "base_uri": "https://localhost:8080/"
        }
      },
      "execution_count": null,
      "outputs": [
        {
          "output_type": "stream",
          "name": "stdout",
          "text": [
            "2 3 5 7 11 13 17 19 23 29 31 37 41 43 47 53 59 61 67 71 73 79 83 89 97 "
          ]
        }
      ]
    },
    {
      "cell_type": "code",
      "source": [
        "# prime number sequence\n",
        "for val in range(2, 101):\n",
        "  for num in range(2, val):\n",
        "    if val % num == 0:\n",
        "      break\n",
        "  # this is floating else it's  featuere of python\n",
        "  #the else is outside but it's thinking it's inside for loop\n",
        "    else:\n",
        "      print(val,end=\" \")"
      ],
      "metadata": {
        "id": "aNLilEIJ_Wn-",
        "outputId": "1668597b-d960-4bf2-8227-95adbf93387b",
        "colab": {
          "base_uri": "https://localhost:8080/"
        }
      },
      "execution_count": null,
      "outputs": [
        {
          "output_type": "stream",
          "name": "stdout",
          "text": [
            "3 5 5 5 7 7 7 7 7 9 11 11 11 11 11 11 11 11 11 13 13 13 13 13 13 13 13 13 13 13 15 17 17 17 17 17 17 17 17 17 17 17 17 17 17 17 19 19 19 19 19 19 19 19 19 19 19 19 19 19 19 19 19 21 23 23 23 23 23 23 23 23 23 23 23 23 23 23 23 23 23 23 23 23 23 25 25 25 27 29 29 29 29 29 29 29 29 29 29 29 29 29 29 29 29 29 29 29 29 29 29 29 29 29 29 29 31 31 31 31 31 31 31 31 31 31 31 31 31 31 31 31 31 31 31 31 31 31 31 31 31 31 31 31 31 33 35 35 35 37 37 37 37 37 37 37 37 37 37 37 37 37 37 37 37 37 37 37 37 37 37 37 37 37 37 37 37 37 37 37 37 37 37 37 39 41 41 41 41 41 41 41 41 41 41 41 41 41 41 41 41 41 41 41 41 41 41 41 41 41 41 41 41 41 41 41 41 41 41 41 41 41 41 41 43 43 43 43 43 43 43 43 43 43 43 43 43 43 43 43 43 43 43 43 43 43 43 43 43 43 43 43 43 43 43 43 43 43 43 43 43 43 43 43 43 45 47 47 47 47 47 47 47 47 47 47 47 47 47 47 47 47 47 47 47 47 47 47 47 47 47 47 47 47 47 47 47 47 47 47 47 47 47 47 47 47 47 47 47 47 47 49 49 49 49 49 51 53 53 53 53 53 53 53 53 53 53 53 53 53 53 53 53 53 53 53 53 53 53 53 53 53 53 53 53 53 53 53 53 53 53 53 53 53 53 53 53 53 53 53 53 53 53 53 53 53 53 53 55 55 55 57 59 59 59 59 59 59 59 59 59 59 59 59 59 59 59 59 59 59 59 59 59 59 59 59 59 59 59 59 59 59 59 59 59 59 59 59 59 59 59 59 59 59 59 59 59 59 59 59 59 59 59 59 59 59 59 59 59 61 61 61 61 61 61 61 61 61 61 61 61 61 61 61 61 61 61 61 61 61 61 61 61 61 61 61 61 61 61 61 61 61 61 61 61 61 61 61 61 61 61 61 61 61 61 61 61 61 61 61 61 61 61 61 61 61 61 61 63 65 65 65 67 67 67 67 67 67 67 67 67 67 67 67 67 67 67 67 67 67 67 67 67 67 67 67 67 67 67 67 67 67 67 67 67 67 67 67 67 67 67 67 67 67 67 67 67 67 67 67 67 67 67 67 67 67 67 67 67 67 67 67 67 67 67 67 67 69 71 71 71 71 71 71 71 71 71 71 71 71 71 71 71 71 71 71 71 71 71 71 71 71 71 71 71 71 71 71 71 71 71 71 71 71 71 71 71 71 71 71 71 71 71 71 71 71 71 71 71 71 71 71 71 71 71 71 71 71 71 71 71 71 71 71 71 71 71 73 73 73 73 73 73 73 73 73 73 73 73 73 73 73 73 73 73 73 73 73 73 73 73 73 73 73 73 73 73 73 73 73 73 73 73 73 73 73 73 73 73 73 73 73 73 73 73 73 73 73 73 73 73 73 73 73 73 73 73 73 73 73 73 73 73 73 73 73 73 73 75 77 77 77 77 77 79 79 79 79 79 79 79 79 79 79 79 79 79 79 79 79 79 79 79 79 79 79 79 79 79 79 79 79 79 79 79 79 79 79 79 79 79 79 79 79 79 79 79 79 79 79 79 79 79 79 79 79 79 79 79 79 79 79 79 79 79 79 79 79 79 79 79 79 79 79 79 79 79 79 79 79 79 81 83 83 83 83 83 83 83 83 83 83 83 83 83 83 83 83 83 83 83 83 83 83 83 83 83 83 83 83 83 83 83 83 83 83 83 83 83 83 83 83 83 83 83 83 83 83 83 83 83 83 83 83 83 83 83 83 83 83 83 83 83 83 83 83 83 83 83 83 83 83 83 83 83 83 83 83 83 83 83 83 83 85 85 85 87 89 89 89 89 89 89 89 89 89 89 89 89 89 89 89 89 89 89 89 89 89 89 89 89 89 89 89 89 89 89 89 89 89 89 89 89 89 89 89 89 89 89 89 89 89 89 89 89 89 89 89 89 89 89 89 89 89 89 89 89 89 89 89 89 89 89 89 89 89 89 89 89 89 89 89 89 89 89 89 89 89 89 89 89 89 89 89 91 91 91 91 91 93 95 95 95 97 97 97 97 97 97 97 97 97 97 97 97 97 97 97 97 97 97 97 97 97 97 97 97 97 97 97 97 97 97 97 97 97 97 97 97 97 97 97 97 97 97 97 97 97 97 97 97 97 97 97 97 97 97 97 97 97 97 97 97 97 97 97 97 97 97 97 97 97 97 97 97 97 97 97 97 97 97 97 97 97 97 97 97 97 97 97 97 97 97 97 97 97 97 97 99 "
          ]
        }
      ]
    },
    {
      "cell_type": "code",
      "source": [
        "import time\n",
        "st = time.time()\n",
        "for num in range(2,1000):\n",
        "    flag = 0\n",
        "    for val in range(2,num):\n",
        "        if num % val == 0:\n",
        "            flag = 1\n",
        "            break\n",
        "    if flag == 0:\n",
        "        print(num,end=\" \")\n",
        "et = time.time()\n",
        "print(et-st)"
      ],
      "metadata": {
        "id": "JEKRcIYiBAxz",
        "outputId": "6ae8372a-8be3-4a39-a0a3-2009a0d0d974",
        "colab": {
          "base_uri": "https://localhost:8080/"
        }
      },
      "execution_count": null,
      "outputs": [
        {
          "output_type": "stream",
          "name": "stdout",
          "text": [
            "2 3 5 7 11 13 17 19 23 29 31 37 41 43 47 53 59 61 67 71 73 79 83 89 97 101 103 107 109 113 127 131 137 139 149 151 157 163 167 173 179 181 191 193 197 199 211 223 227 229 233 239 241 251 257 263 269 271 277 281 283 293 307 311 313 317 331 337 347 349 353 359 367 373 379 383 389 397 401 409 419 421 431 433 439 443 449 457 461 463 467 479 487 491 499 503 509 521 523 541 547 557 563 569 571 577 587 593 599 601 607 613 617 619 631 641 643 647 653 659 661 673 677 683 691 701 709 719 727 733 739 743 751 757 761 769 773 787 797 809 811 821 823 827 829 839 853 857 859 863 877 881 883 887 907 911 919 929 937 941 947 953 967 971 977 983 991 997 0.05607271194458008\n"
          ]
        }
      ]
    },
    {
      "cell_type": "code",
      "source": [
        "import time\n",
        "st = time.time()\n",
        "def checkFactor(n):\n",
        "  for num in range(1, n+1):\n",
        "    if n%num==0:\n",
        "      print(num, end=\" \")\n",
        "\n",
        "checkFactor(28)\n",
        "et = time.time()\n",
        "print(et-st)"
      ],
      "metadata": {
        "id": "ET8DgQBzE1UF",
        "outputId": "9fc6bff9-69bb-4be7-c57b-ff3b304e2bd4",
        "colab": {
          "base_uri": "https://localhost:8080/"
        }
      },
      "execution_count": null,
      "outputs": [
        {
          "output_type": "stream",
          "name": "stdout",
          "text": [
            "1 2 4 7 14 28 0.0026564598083496094\n"
          ]
        }
      ]
    },
    {
      "cell_type": "code",
      "source": [
        "# Set always keep unique value\n",
        "goodset = {1,5,6,3,4,5,2,6,2,1}\n",
        "goodset\n"
      ],
      "metadata": {
        "id": "PNxHsQ1GFSE6",
        "outputId": "d499d6ff-bf02-4db0-d416-cf482cae33e7",
        "colab": {
          "base_uri": "https://localhost:8080/"
        }
      },
      "execution_count": 7,
      "outputs": [
        {
          "output_type": "execute_result",
          "data": {
            "text/plain": [
              "{1, 2, 3, 4, 5, 6}"
            ]
          },
          "metadata": {},
          "execution_count": 7
        }
      ]
    },
    {
      "cell_type": "code",
      "source": [
        "#list to convert set for get unique item\n",
        "goodlist = [1,5,6,3,4,5,2,6,2,1]\n",
        "goodset = set(goodlist)\n",
        "goodset"
      ],
      "metadata": {
        "id": "sDpa6mkLtEoL",
        "outputId": "a21c9bd9-537c-4d05-de75-46f1cbbe09a5",
        "colab": {
          "base_uri": "https://localhost:8080/"
        }
      },
      "execution_count": 10,
      "outputs": [
        {
          "output_type": "execute_result",
          "data": {
            "text/plain": [
              "{1, 2, 3, 4, 5, 6}"
            ]
          },
          "metadata": {},
          "execution_count": 10
        }
      ]
    },
    {
      "cell_type": "code",
      "source": [
        "#defining a blank set and adding item\n",
        "goodset = set()\n",
        "goodset.add(1)\n",
        "goodset.add(100)\n",
        "goodset.add(20)\n",
        "goodset"
      ],
      "metadata": {
        "id": "jaZAG6WWta50",
        "outputId": "938df782-e845-4a69-903d-778cd2a907ac",
        "colab": {
          "base_uri": "https://localhost:8080/"
        }
      },
      "execution_count": 12,
      "outputs": [
        {
          "output_type": "execute_result",
          "data": {
            "text/plain": [
              "{1, 20, 100}"
            ]
          },
          "metadata": {},
          "execution_count": 12
        }
      ]
    },
    {
      "cell_type": "code",
      "source": [
        "#initializing my set\n",
        "myset = {1,3,4,1,2,3}\n",
        "myset"
      ],
      "metadata": {
        "id": "4gjsrSozuael",
        "outputId": "66439e8f-ee94-4fda-c133-d18c58b0097b",
        "colab": {
          "base_uri": "https://localhost:8080/"
        }
      },
      "execution_count": 13,
      "outputs": [
        {
          "output_type": "execute_result",
          "data": {
            "text/plain": [
              "{1, 2, 3, 4}"
            ]
          },
          "metadata": {},
          "execution_count": 13
        }
      ]
    },
    {
      "cell_type": "code",
      "source": [
        "#add value in myset\n",
        "myset.add(12)\n",
        "myset"
      ],
      "metadata": {
        "id": "C0PijUszuubo",
        "outputId": "060c6714-8b90-4515-e320-4b4185646697",
        "colab": {
          "base_uri": "https://localhost:8080/"
        }
      },
      "execution_count": 15,
      "outputs": [
        {
          "output_type": "execute_result",
          "data": {
            "text/plain": [
              "{1, 2, 3, 4, 12}"
            ]
          },
          "metadata": {},
          "execution_count": 15
        }
      ]
    },
    {
      "cell_type": "code",
      "source": [
        "#update my set\n",
        "myset.update([15,13,14,16])\n",
        "myset"
      ],
      "metadata": {
        "id": "MVyfr52gu39J",
        "outputId": "084dac1b-6be0-4529-bf12-517e32a73158",
        "colab": {
          "base_uri": "https://localhost:8080/"
        }
      },
      "execution_count": 18,
      "outputs": [
        {
          "output_type": "execute_result",
          "data": {
            "text/plain": [
              "{1, 2, 3, 4, 12, 13, 14, 15, 16}"
            ]
          },
          "metadata": {},
          "execution_count": 18
        }
      ]
    },
    {
      "cell_type": "code",
      "source": [
        "#update my set\n",
        "myset.update([20,21],{56,57,90})\n",
        "myset"
      ],
      "metadata": {
        "id": "cnIjRxbHvJUE",
        "outputId": "5d6e9ca8-d1bd-4863-c30c-9c2f4206d98c",
        "colab": {
          "base_uri": "https://localhost:8080/"
        }
      },
      "execution_count": 19,
      "outputs": [
        {
          "output_type": "execute_result",
          "data": {
            "text/plain": [
              "{1, 2, 3, 4, 12, 13, 14, 15, 16, 20, 21, 56, 57, 90}"
            ]
          },
          "metadata": {},
          "execution_count": 19
        }
      ]
    },
    {
      "cell_type": "code",
      "source": [
        "newset = myset.copy()\n",
        "newset, myset"
      ],
      "metadata": {
        "id": "RdxOvYjOvYt7",
        "outputId": "0f0d4062-a53c-4d22-d2b3-f890152d2853",
        "colab": {
          "base_uri": "https://localhost:8080/"
        }
      },
      "execution_count": 21,
      "outputs": [
        {
          "output_type": "execute_result",
          "data": {
            "text/plain": [
              "({1, 2, 3, 4, 12, 13, 14, 15, 16, 20, 21, 56, 57, 90},\n",
              " {1, 2, 3, 4, 12, 13, 14, 15, 16, 20, 21, 56, 57, 90})"
            ]
          },
          "metadata": {},
          "execution_count": 21
        }
      ]
    },
    {
      "cell_type": "code",
      "source": [
        "myset.add(10)\n",
        "myset, newset"
      ],
      "metadata": {
        "id": "P0HrkQAuvjg6",
        "outputId": "47f5efc2-1cc0-46ad-cde8-1fbf9d735c94",
        "colab": {
          "base_uri": "https://localhost:8080/"
        }
      },
      "execution_count": 22,
      "outputs": [
        {
          "output_type": "execute_result",
          "data": {
            "text/plain": [
              "({1, 2, 3, 4, 10, 12, 13, 14, 15, 16, 20, 21, 56, 57, 90},\n",
              " {1, 2, 3, 4, 12, 13, 14, 15, 16, 20, 21, 56, 57, 90})"
            ]
          },
          "metadata": {},
          "execution_count": 22
        }
      ]
    },
    {
      "cell_type": "code",
      "source": [
        "newset.clear\n",
        "myset = {5,10,15}\n",
        "goodset = {10,20,30}\n",
        "newset = myset.copy()\n",
        "print('newset: ', newset )\n",
        "print('goodset: ', goodset)\n",
        "x=goodset.intersection(newset)\n",
        "print('intersection: ', x)\n",
        "y = goodset.union(newset)\n",
        "print('Unioun: ', y)\n",
        "z= goodset.difference(newset)\n",
        "print('Difference: ', z)\n",
        "z= newset.difference(goodset)\n",
        "print('Difference: ', z)"
      ],
      "metadata": {
        "id": "y6L9nFVmvulm",
        "outputId": "739a3a78-2813-48b0-935b-e4b5829c5dc5",
        "colab": {
          "base_uri": "https://localhost:8080/"
        }
      },
      "execution_count": 36,
      "outputs": [
        {
          "output_type": "stream",
          "name": "stdout",
          "text": [
            "newset:  {10, 5, 15}\n",
            "goodset:  {10, 20, 30}\n",
            "intersection:  {10}\n",
            "Unioun:  {20, 5, 10, 30, 15}\n",
            "Difference:  {20, 30}\n",
            "Difference:  {5, 15}\n"
          ]
        }
      ]
    },
    {
      "cell_type": "code",
      "source": [],
      "metadata": {
        "id": "Ks_voDEnyBxd"
      },
      "execution_count": null,
      "outputs": []
    }
  ]
}