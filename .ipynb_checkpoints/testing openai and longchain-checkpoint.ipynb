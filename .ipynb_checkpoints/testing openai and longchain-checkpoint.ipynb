{
 "cells": [
  {
   "cell_type": "code",
   "execution_count": 36,
   "id": "235ca4a1-6d4c-4780-8b1a-3434211f11f8",
   "metadata": {},
   "outputs": [],
   "source": [
    "import openai"
   ]
  },
  {
   "cell_type": "code",
   "execution_count": 34,
   "id": "8422e4ff-ae96-417d-adfc-b0c625e54873",
   "metadata": {},
   "outputs": [
    {
     "name": "stdout",
     "output_type": "stream",
     "text": [
      "Requirement already satisfied: pandas in c:\\users\\v-ramdulare\\appdata\\local\\anaconda3\\envs\\genai\\lib\\site-packages (2.2.2)\n",
      "Requirement already satisfied: numpy>=1.26.0 in c:\\users\\v-ramdulare\\appdata\\local\\anaconda3\\envs\\genai\\lib\\site-packages (from pandas) (2.0.0)\n",
      "Requirement already satisfied: python-dateutil>=2.8.2 in c:\\users\\v-ramdulare\\appdata\\local\\anaconda3\\envs\\genai\\lib\\site-packages (from pandas) (2.9.0.post0)\n",
      "Requirement already satisfied: pytz>=2020.1 in c:\\users\\v-ramdulare\\appdata\\local\\anaconda3\\envs\\genai\\lib\\site-packages (from pandas) (2024.1)\n",
      "Requirement already satisfied: tzdata>=2022.7 in c:\\users\\v-ramdulare\\appdata\\local\\anaconda3\\envs\\genai\\lib\\site-packages (from pandas) (2024.1)\n",
      "Requirement already satisfied: six>=1.5 in c:\\users\\v-ramdulare\\appdata\\local\\anaconda3\\envs\\genai\\lib\\site-packages (from python-dateutil>=2.8.2->pandas) (1.16.0)\n",
      "Note: you may need to restart the kernel to use updated packages.\n"
     ]
    }
   ],
   "source": []
  },
  {
   "cell_type": "code",
   "execution_count": 37,
   "id": "fe84f151-b201-4945-9b5a-166479f2fe9a",
   "metadata": {},
   "outputs": [],
   "source": []
  },
  {
   "cell_type": "code",
   "execution_count": 38,
   "id": "ca745c11-3203-4bd9-a40b-117e5fcb4857",
   "metadata": {},
   "outputs": [],
   "source": [
    "openai.api_key=mykey"
   ]
  },
  {
   "cell_type": "code",
   "execution_count": 42,
   "id": "ca9ed809-c290-41a1-856d-99d9ff64bd1b",
   "metadata": {},
   "outputs": [],
   "source": [
    "all_models=openai.models.list()"
   ]
  },
  {
   "cell_type": "code",
   "execution_count": 46,
   "id": "5f468660-7dae-4d62-8c0a-812c61966bb6",
   "metadata": {},
   "outputs": [
    {
     "data": {
      "text/plain": [
       "[Model(id='dall-e-3', created=1698785189, object='model', owned_by='system'),\n",
       " Model(id='whisper-1', created=1677532384, object='model', owned_by='openai-internal'),\n",
       " Model(id='gpt-4-1106-preview', created=1698957206, object='model', owned_by='system'),\n",
       " Model(id='tts-1', created=1681940951, object='model', owned_by='openai-internal'),\n",
       " Model(id='dall-e-2', created=1698798177, object='model', owned_by='system'),\n",
       " Model(id='tts-1-hd-1106', created=1699053533, object='model', owned_by='system'),\n",
       " Model(id='tts-1-hd', created=1699046015, object='model', owned_by='system'),\n",
       " Model(id='gpt-4o', created=1715367049, object='model', owned_by='system'),\n",
       " Model(id='gpt-4-turbo-2024-04-09', created=1712601677, object='model', owned_by='system'),\n",
       " Model(id='gpt-4-turbo-preview', created=1706037777, object='model', owned_by='system'),\n",
       " Model(id='gpt-4-turbo', created=1712361441, object='model', owned_by='system'),\n",
       " Model(id='gpt-4-0613', created=1686588896, object='model', owned_by='openai'),\n",
       " Model(id='gpt-4', created=1687882411, object='model', owned_by='openai'),\n",
       " Model(id='gpt-4o-2024-05-13', created=1715368132, object='model', owned_by='system'),\n",
       " Model(id='text-embedding-3-small', created=1705948997, object='model', owned_by='system'),\n",
       " Model(id='text-embedding-3-large', created=1705953180, object='model', owned_by='system'),\n",
       " Model(id='babbage-002', created=1692634615, object='model', owned_by='system'),\n",
       " Model(id='tts-1-1106', created=1699053241, object='model', owned_by='system'),\n",
       " Model(id='gpt-3.5-turbo', created=1677610602, object='model', owned_by='openai'),\n",
       " Model(id='gpt-3.5-turbo-instruct', created=1692901427, object='model', owned_by='system'),\n",
       " Model(id='gpt-3.5-turbo-instruct-0914', created=1694122472, object='model', owned_by='system'),\n",
       " Model(id='gpt-4-0125-preview', created=1706037612, object='model', owned_by='system'),\n",
       " Model(id='text-embedding-ada-002', created=1671217299, object='model', owned_by='openai-internal'),\n",
       " Model(id='gpt-3.5-turbo-16k', created=1683758102, object='model', owned_by='openai-internal'),\n",
       " Model(id='davinci-002', created=1692634301, object='model', owned_by='system'),\n",
       " Model(id='gpt-3.5-turbo-0125', created=1706048358, object='model', owned_by='system'),\n",
       " Model(id='gpt-3.5-turbo-1106', created=1698959748, object='model', owned_by='system')]"
      ]
     },
     "execution_count": 46,
     "metadata": {},
     "output_type": "execute_result"
    }
   ],
   "source": [
    "list(all_models)"
   ]
  },
  {
   "cell_type": "code",
   "execution_count": 47,
   "id": "98e84cd2-3ff6-48d1-bfab-138142874110",
   "metadata": {},
   "outputs": [
    {
     "data": {
      "text/html": [
       "<div>\n",
       "<style scoped>\n",
       "    .dataframe tbody tr th:only-of-type {\n",
       "        vertical-align: middle;\n",
       "    }\n",
       "\n",
       "    .dataframe tbody tr th {\n",
       "        vertical-align: top;\n",
       "    }\n",
       "\n",
       "    .dataframe thead th {\n",
       "        text-align: right;\n",
       "    }\n",
       "</style>\n",
       "<table border=\"1\" class=\"dataframe\">\n",
       "  <thead>\n",
       "    <tr style=\"text-align: right;\">\n",
       "      <th></th>\n",
       "      <th>id</th>\n",
       "      <th>created</th>\n",
       "      <th>object</th>\n",
       "      <th>ownedby</th>\n",
       "    </tr>\n",
       "  </thead>\n",
       "  <tbody>\n",
       "    <tr>\n",
       "      <th>0</th>\n",
       "      <td>(id, dall-e-3)</td>\n",
       "      <td>(created, 1698785189)</td>\n",
       "      <td>(object, model)</td>\n",
       "      <td>(owned_by, system)</td>\n",
       "    </tr>\n",
       "    <tr>\n",
       "      <th>1</th>\n",
       "      <td>(id, whisper-1)</td>\n",
       "      <td>(created, 1677532384)</td>\n",
       "      <td>(object, model)</td>\n",
       "      <td>(owned_by, openai-internal)</td>\n",
       "    </tr>\n",
       "    <tr>\n",
       "      <th>2</th>\n",
       "      <td>(id, gpt-4-1106-preview)</td>\n",
       "      <td>(created, 1698957206)</td>\n",
       "      <td>(object, model)</td>\n",
       "      <td>(owned_by, system)</td>\n",
       "    </tr>\n",
       "    <tr>\n",
       "      <th>3</th>\n",
       "      <td>(id, tts-1)</td>\n",
       "      <td>(created, 1681940951)</td>\n",
       "      <td>(object, model)</td>\n",
       "      <td>(owned_by, openai-internal)</td>\n",
       "    </tr>\n",
       "    <tr>\n",
       "      <th>4</th>\n",
       "      <td>(id, dall-e-2)</td>\n",
       "      <td>(created, 1698798177)</td>\n",
       "      <td>(object, model)</td>\n",
       "      <td>(owned_by, system)</td>\n",
       "    </tr>\n",
       "    <tr>\n",
       "      <th>5</th>\n",
       "      <td>(id, tts-1-hd-1106)</td>\n",
       "      <td>(created, 1699053533)</td>\n",
       "      <td>(object, model)</td>\n",
       "      <td>(owned_by, system)</td>\n",
       "    </tr>\n",
       "    <tr>\n",
       "      <th>6</th>\n",
       "      <td>(id, tts-1-hd)</td>\n",
       "      <td>(created, 1699046015)</td>\n",
       "      <td>(object, model)</td>\n",
       "      <td>(owned_by, system)</td>\n",
       "    </tr>\n",
       "    <tr>\n",
       "      <th>7</th>\n",
       "      <td>(id, gpt-4o)</td>\n",
       "      <td>(created, 1715367049)</td>\n",
       "      <td>(object, model)</td>\n",
       "      <td>(owned_by, system)</td>\n",
       "    </tr>\n",
       "    <tr>\n",
       "      <th>8</th>\n",
       "      <td>(id, gpt-4-turbo-2024-04-09)</td>\n",
       "      <td>(created, 1712601677)</td>\n",
       "      <td>(object, model)</td>\n",
       "      <td>(owned_by, system)</td>\n",
       "    </tr>\n",
       "    <tr>\n",
       "      <th>9</th>\n",
       "      <td>(id, gpt-4-turbo-preview)</td>\n",
       "      <td>(created, 1706037777)</td>\n",
       "      <td>(object, model)</td>\n",
       "      <td>(owned_by, system)</td>\n",
       "    </tr>\n",
       "    <tr>\n",
       "      <th>10</th>\n",
       "      <td>(id, gpt-4-turbo)</td>\n",
       "      <td>(created, 1712361441)</td>\n",
       "      <td>(object, model)</td>\n",
       "      <td>(owned_by, system)</td>\n",
       "    </tr>\n",
       "    <tr>\n",
       "      <th>11</th>\n",
       "      <td>(id, gpt-4-0613)</td>\n",
       "      <td>(created, 1686588896)</td>\n",
       "      <td>(object, model)</td>\n",
       "      <td>(owned_by, openai)</td>\n",
       "    </tr>\n",
       "    <tr>\n",
       "      <th>12</th>\n",
       "      <td>(id, gpt-4)</td>\n",
       "      <td>(created, 1687882411)</td>\n",
       "      <td>(object, model)</td>\n",
       "      <td>(owned_by, openai)</td>\n",
       "    </tr>\n",
       "    <tr>\n",
       "      <th>13</th>\n",
       "      <td>(id, gpt-4o-2024-05-13)</td>\n",
       "      <td>(created, 1715368132)</td>\n",
       "      <td>(object, model)</td>\n",
       "      <td>(owned_by, system)</td>\n",
       "    </tr>\n",
       "    <tr>\n",
       "      <th>14</th>\n",
       "      <td>(id, text-embedding-3-small)</td>\n",
       "      <td>(created, 1705948997)</td>\n",
       "      <td>(object, model)</td>\n",
       "      <td>(owned_by, system)</td>\n",
       "    </tr>\n",
       "    <tr>\n",
       "      <th>15</th>\n",
       "      <td>(id, text-embedding-3-large)</td>\n",
       "      <td>(created, 1705953180)</td>\n",
       "      <td>(object, model)</td>\n",
       "      <td>(owned_by, system)</td>\n",
       "    </tr>\n",
       "    <tr>\n",
       "      <th>16</th>\n",
       "      <td>(id, babbage-002)</td>\n",
       "      <td>(created, 1692634615)</td>\n",
       "      <td>(object, model)</td>\n",
       "      <td>(owned_by, system)</td>\n",
       "    </tr>\n",
       "    <tr>\n",
       "      <th>17</th>\n",
       "      <td>(id, tts-1-1106)</td>\n",
       "      <td>(created, 1699053241)</td>\n",
       "      <td>(object, model)</td>\n",
       "      <td>(owned_by, system)</td>\n",
       "    </tr>\n",
       "    <tr>\n",
       "      <th>18</th>\n",
       "      <td>(id, gpt-3.5-turbo)</td>\n",
       "      <td>(created, 1677610602)</td>\n",
       "      <td>(object, model)</td>\n",
       "      <td>(owned_by, openai)</td>\n",
       "    </tr>\n",
       "    <tr>\n",
       "      <th>19</th>\n",
       "      <td>(id, gpt-3.5-turbo-instruct)</td>\n",
       "      <td>(created, 1692901427)</td>\n",
       "      <td>(object, model)</td>\n",
       "      <td>(owned_by, system)</td>\n",
       "    </tr>\n",
       "    <tr>\n",
       "      <th>20</th>\n",
       "      <td>(id, gpt-3.5-turbo-instruct-0914)</td>\n",
       "      <td>(created, 1694122472)</td>\n",
       "      <td>(object, model)</td>\n",
       "      <td>(owned_by, system)</td>\n",
       "    </tr>\n",
       "    <tr>\n",
       "      <th>21</th>\n",
       "      <td>(id, gpt-4-0125-preview)</td>\n",
       "      <td>(created, 1706037612)</td>\n",
       "      <td>(object, model)</td>\n",
       "      <td>(owned_by, system)</td>\n",
       "    </tr>\n",
       "    <tr>\n",
       "      <th>22</th>\n",
       "      <td>(id, text-embedding-ada-002)</td>\n",
       "      <td>(created, 1671217299)</td>\n",
       "      <td>(object, model)</td>\n",
       "      <td>(owned_by, openai-internal)</td>\n",
       "    </tr>\n",
       "    <tr>\n",
       "      <th>23</th>\n",
       "      <td>(id, gpt-3.5-turbo-16k)</td>\n",
       "      <td>(created, 1683758102)</td>\n",
       "      <td>(object, model)</td>\n",
       "      <td>(owned_by, openai-internal)</td>\n",
       "    </tr>\n",
       "    <tr>\n",
       "      <th>24</th>\n",
       "      <td>(id, davinci-002)</td>\n",
       "      <td>(created, 1692634301)</td>\n",
       "      <td>(object, model)</td>\n",
       "      <td>(owned_by, system)</td>\n",
       "    </tr>\n",
       "    <tr>\n",
       "      <th>25</th>\n",
       "      <td>(id, gpt-3.5-turbo-0125)</td>\n",
       "      <td>(created, 1706048358)</td>\n",
       "      <td>(object, model)</td>\n",
       "      <td>(owned_by, system)</td>\n",
       "    </tr>\n",
       "    <tr>\n",
       "      <th>26</th>\n",
       "      <td>(id, gpt-3.5-turbo-1106)</td>\n",
       "      <td>(created, 1698959748)</td>\n",
       "      <td>(object, model)</td>\n",
       "      <td>(owned_by, system)</td>\n",
       "    </tr>\n",
       "  </tbody>\n",
       "</table>\n",
       "</div>"
      ],
      "text/plain": [
       "                                   id                created           object  \\\n",
       "0                      (id, dall-e-3)  (created, 1698785189)  (object, model)   \n",
       "1                     (id, whisper-1)  (created, 1677532384)  (object, model)   \n",
       "2            (id, gpt-4-1106-preview)  (created, 1698957206)  (object, model)   \n",
       "3                         (id, tts-1)  (created, 1681940951)  (object, model)   \n",
       "4                      (id, dall-e-2)  (created, 1698798177)  (object, model)   \n",
       "5                 (id, tts-1-hd-1106)  (created, 1699053533)  (object, model)   \n",
       "6                      (id, tts-1-hd)  (created, 1699046015)  (object, model)   \n",
       "7                        (id, gpt-4o)  (created, 1715367049)  (object, model)   \n",
       "8        (id, gpt-4-turbo-2024-04-09)  (created, 1712601677)  (object, model)   \n",
       "9           (id, gpt-4-turbo-preview)  (created, 1706037777)  (object, model)   \n",
       "10                  (id, gpt-4-turbo)  (created, 1712361441)  (object, model)   \n",
       "11                   (id, gpt-4-0613)  (created, 1686588896)  (object, model)   \n",
       "12                        (id, gpt-4)  (created, 1687882411)  (object, model)   \n",
       "13            (id, gpt-4o-2024-05-13)  (created, 1715368132)  (object, model)   \n",
       "14       (id, text-embedding-3-small)  (created, 1705948997)  (object, model)   \n",
       "15       (id, text-embedding-3-large)  (created, 1705953180)  (object, model)   \n",
       "16                  (id, babbage-002)  (created, 1692634615)  (object, model)   \n",
       "17                   (id, tts-1-1106)  (created, 1699053241)  (object, model)   \n",
       "18                (id, gpt-3.5-turbo)  (created, 1677610602)  (object, model)   \n",
       "19       (id, gpt-3.5-turbo-instruct)  (created, 1692901427)  (object, model)   \n",
       "20  (id, gpt-3.5-turbo-instruct-0914)  (created, 1694122472)  (object, model)   \n",
       "21           (id, gpt-4-0125-preview)  (created, 1706037612)  (object, model)   \n",
       "22       (id, text-embedding-ada-002)  (created, 1671217299)  (object, model)   \n",
       "23            (id, gpt-3.5-turbo-16k)  (created, 1683758102)  (object, model)   \n",
       "24                  (id, davinci-002)  (created, 1692634301)  (object, model)   \n",
       "25           (id, gpt-3.5-turbo-0125)  (created, 1706048358)  (object, model)   \n",
       "26           (id, gpt-3.5-turbo-1106)  (created, 1698959748)  (object, model)   \n",
       "\n",
       "                        ownedby  \n",
       "0            (owned_by, system)  \n",
       "1   (owned_by, openai-internal)  \n",
       "2            (owned_by, system)  \n",
       "3   (owned_by, openai-internal)  \n",
       "4            (owned_by, system)  \n",
       "5            (owned_by, system)  \n",
       "6            (owned_by, system)  \n",
       "7            (owned_by, system)  \n",
       "8            (owned_by, system)  \n",
       "9            (owned_by, system)  \n",
       "10           (owned_by, system)  \n",
       "11           (owned_by, openai)  \n",
       "12           (owned_by, openai)  \n",
       "13           (owned_by, system)  \n",
       "14           (owned_by, system)  \n",
       "15           (owned_by, system)  \n",
       "16           (owned_by, system)  \n",
       "17           (owned_by, system)  \n",
       "18           (owned_by, openai)  \n",
       "19           (owned_by, system)  \n",
       "20           (owned_by, system)  \n",
       "21           (owned_by, system)  \n",
       "22  (owned_by, openai-internal)  \n",
       "23  (owned_by, openai-internal)  \n",
       "24           (owned_by, system)  \n",
       "25           (owned_by, system)  \n",
       "26           (owned_by, system)  "
      ]
     },
     "execution_count": 47,
     "metadata": {},
     "output_type": "execute_result"
    }
   ],
   "source": [
    "import pandas as pd\n",
    "pd.DataFrame(list(all_models),columns=[\"id\",\"created\",\"object\", \"ownedby\"])"
   ]
  },
  {
   "cell_type": "code",
   "execution_count": null,
   "id": "a751e602-c9cf-4a26-bda6-ad6c3e050e0c",
   "metadata": {},
   "outputs": [],
   "source": []
  },
  {
   "cell_type": "code",
   "execution_count": null,
   "id": "40919540-1806-41d2-b9e1-27e85e0422e0",
   "metadata": {},
   "outputs": [],
   "source": [
    "The OpenAI Playground is an interactive platform provided by OpenAI that allows users to explore and experiment with various AI models, including text-based models like GPT-3.5. You can access it here: OpenAI Playground. It provides a user-friendly interface for interacting with AI models and testing different prompts and queries."
   ]
  },
  {
   "cell_type": "markdown",
   "id": "09b736ec-8050-4667-b1dd-586132b5663c",
   "metadata": {},
   "source": [
    "# A simple prompt to extract information from \"Student_description\" in a JSOn format\n",
    "promt = f'''\n",
    "Please extract the following information from the given text and return it as a JSON object:\n",
    "name\n",
    "college \n",
    "grades\n",
    "club\n",
    "This is the body of text to extract the information from:\n",
    "{student_description}'''"
   ]
  },
  {
   "cell_type": "code",
   "execution_count": 53,
   "id": "5c02f8e0-7754-47be-a71b-eb684979d5e1",
   "metadata": {},
   "outputs": [],
   "source": [
    "# this code is for  v1 of openai package :https://pypi.org/project/openai/\n",
    "from openai import OpenAI\n",
    "client = OpenAI(api_key=mykey)"
   ]
  },
  {
   "cell_type": "code",
   "execution_count": 57,
   "id": "a8fe25ea-4051-4c6b-a9de-b6b023d50df0",
   "metadata": {},
   "outputs": [],
   "source": [
    "response = client.chat.completions.create(\n",
    "    model=\"gpt-4\",\n",
    "    messages=[{\"role\": \"user\", \"content\": \"Who own the first cricket world cup?\"}],\n",
    "    max_tokens=150,\n",
    "    n=3\n",
    ")\n"
   ]
  },
  {
   "cell_type": "code",
   "execution_count": 58,
   "id": "a7dacb93-4fff-4338-af17-6de542724c6f",
   "metadata": {},
   "outputs": [
    {
     "data": {
      "text/plain": [
       "openai.types.chat.chat_completion.ChatCompletion"
      ]
     },
     "execution_count": 58,
     "metadata": {},
     "output_type": "execute_result"
    }
   ],
   "source": [
    "type(response)"
   ]
  },
  {
   "cell_type": "code",
   "execution_count": 75,
   "id": "d30a71b9-42f4-478e-8118-2c9130bc0ce1",
   "metadata": {},
   "outputs": [
    {
     "data": {
      "text/plain": [
       "'The first cricket world cup was won by West Indies in 1975.'"
      ]
     },
     "execution_count": 75,
     "metadata": {},
     "output_type": "execute_result"
    }
   ],
   "source": [
    "response.choices[2].message.content\n"
   ]
  },
  {
   "cell_type": "code",
   "execution_count": null,
   "id": "cdbd0264-e85e-4855-9f47-90aa0469fcda",
   "metadata": {},
   "outputs": [],
   "source": [
    "''' now let try to understand the different parameters inside the  methods\n",
    "model=\"\"\n",
    "prompt=input prompt\n",
    "max_tokens=in how may number of tokens you want result\n",
    "temperature = for getting some creative output\n",
    "n= number of the output\n",
    "\n",
    "#https://openai.com/pricing\n",
    "#https?//platform.openai.com/toenizer'''\n"
   ]
  },
  {
   "cell_type": "raw",
   "id": "02e67da7-f672-4da0-9c53-5c7a9ae50883",
   "metadata": {},
   "source": [
    "# Function Calling"
   ]
  },
  {
   "cell_type": "code",
   "execution_count": 95,
   "id": "ed7f1d68-8bd3-4c29-a1e5-2a919381f926",
   "metadata": {},
   "outputs": [],
   "source": [
    "from openai import OpenAI\n",
    "client = OpenAI(api_key=mykey)"
   ]
  },
  {
   "cell_type": "code",
   "execution_count": 96,
   "id": "f5a18aa1-7f6b-4ac7-bdfa-1602015fdf71",
   "metadata": {},
   "outputs": [],
   "source": [
    "student_description =\"sunny savita is a student of computer  science at IIT delhi. He is an indian and has a 8.5 GPA. suny is known for his programing skills and is an acive member of the college's AI club. He hopes to puresue a career in artificial intelligence after graduating\""
   ]
  },
  {
   "cell_type": "code",
   "execution_count": 106,
   "id": "24ae424b-5da5-4da1-8b75-94e06570aef3",
   "metadata": {},
   "outputs": [
    {
     "data": {
      "text/plain": [
       "\"sunny savita is a student of computer  science at IIT delhi. He is an indian and has a 8.5 GPA. suny is known for his programing skills and is an acive member of the college's AI club. He hopes to puresue a career in artificial intelligence after graduating\""
      ]
     },
     "execution_count": 106,
     "metadata": {},
     "output_type": "execute_result"
    }
   ],
   "source": [
    "student_description"
   ]
  },
  {
   "cell_type": "code",
   "execution_count": 111,
   "id": "77d28e1a-d3d1-4e3e-84b2-b181bdaa2f10",
   "metadata": {},
   "outputs": [],
   "source": [
    "# A simple prompt to extract information from \"Student_description\" in a JSOn format\n",
    "prompt = f'''\n",
    "Please extract the following information from the given text and return it as a JSON object:\n",
    "name\n",
    "college \n",
    "grades\n",
    "club\n",
    "This is the body of text to extract the information from:\n",
    "{student_description}'''"
   ]
  },
  {
   "cell_type": "code",
   "execution_count": 114,
   "id": "d939f293-ec9e-4bd5-b75b-bf9550a54f6e",
   "metadata": {},
   "outputs": [
    {
     "data": {
      "text/plain": [
       "\"\\nPlease extract the following information from the given text and return it as a JSON object:\\nname\\ncollege \\ngrades\\nclub\\nThis is the body of text to extract the information from:\\nsunny savita is a student of computer  science at IIT delhi. He is an indian and has a 8.5 GPA. suny is known for his programing skills and is an acive member of the college's AI club. He hopes to puresue a career in artificial intelligence after graduating\""
      ]
     },
     "execution_count": 114,
     "metadata": {},
     "output_type": "execute_result"
    }
   ],
   "source": [
    "prompt"
   ]
  },
  {
   "cell_type": "code",
   "execution_count": 115,
   "id": "c494fd03-3a29-4c17-bd08-5247cc191646",
   "metadata": {},
   "outputs": [],
   "source": [
    "response=client.chat.completions.create(  \n",
    "    model=\"gpt-4\",\n",
    "    messages=[{\"role\": \"user\", \"content\": prompt}],\n",
    "    max_tokens=150,\n",
    "    n=1)"
   ]
  },
  {
   "cell_type": "code",
   "execution_count": 116,
   "id": "9263b9a5-290c-477e-9fbd-527445ebb19a",
   "metadata": {},
   "outputs": [
    {
     "data": {
      "text/plain": [
       "ChatCompletion(id='chatcmpl-9mPZeUwKKcUBdUcnGbmV6x1viJ55M', choices=[Choice(finish_reason='stop', index=0, logprobs=None, message=ChatCompletionMessage(content='{\\n\"name\": \"sunny savita\",\\n\"college\": \"IIT delhi\",\\n\"grades\": \"8.5 GPA\",\\n\"club\": \"AI club\"\\n}', role='assistant', function_call=None, tool_calls=None)), Choice(finish_reason='stop', index=1, logprobs=None, message=ChatCompletionMessage(content='{\\n\"name\": \"sunny savita\",\\n\"college\": \"IIT delhi\",\\n\"grades\": \"8.5 GPA\",\\n\"club\": \"AI club\"\\n}', role='assistant', function_call=None, tool_calls=None)), Choice(finish_reason='stop', index=2, logprobs=None, message=ChatCompletionMessage(content='{\\n  \"name\": \"sunny savita\", \\n  \"college\": \"IIT delhi\",\\n  \"grades\": \"8.5 GPA\",\\n  \"club\": \"AI club\"\\n}', role='assistant', function_call=None, tool_calls=None))], created=1721325078, model='gpt-4-0613', object='chat.completion', service_tier=None, system_fingerprint=None, usage=CompletionUsage(completion_tokens=111, prompt_tokens=110, total_tokens=221))"
      ]
     },
     "execution_count": 116,
     "metadata": {},
     "output_type": "execute_result"
    }
   ],
   "source": [
    "response"
   ]
  },
  {
   "cell_type": "code",
   "execution_count": 119,
   "id": "a5d74969-0125-4959-ab16-42fc05faf78a",
   "metadata": {},
   "outputs": [
    {
     "data": {
      "text/plain": [
       "[Choice(finish_reason='stop', index=0, logprobs=None, message=ChatCompletionMessage(content='{\\n\"name\": \"sunny savita\",\\n\"college\": \"IIT delhi\",\\n\"grades\": \"8.5 GPA\",\\n\"club\": \"AI club\"\\n}', role='assistant', function_call=None, tool_calls=None)),\n",
       " Choice(finish_reason='stop', index=1, logprobs=None, message=ChatCompletionMessage(content='{\\n\"name\": \"sunny savita\",\\n\"college\": \"IIT delhi\",\\n\"grades\": \"8.5 GPA\",\\n\"club\": \"AI club\"\\n}', role='assistant', function_call=None, tool_calls=None)),\n",
       " Choice(finish_reason='stop', index=2, logprobs=None, message=ChatCompletionMessage(content='{\\n  \"name\": \"sunny savita\", \\n  \"college\": \"IIT delhi\",\\n  \"grades\": \"8.5 GPA\",\\n  \"club\": \"AI club\"\\n}', role='assistant', function_call=None, tool_calls=None))]"
      ]
     },
     "execution_count": 119,
     "metadata": {},
     "output_type": "execute_result"
    }
   ],
   "source": [
    "response.choices"
   ]
  },
  {
   "cell_type": "code",
   "execution_count": 121,
   "id": "2e26958a-3787-4683-aa94-9998afba7544",
   "metadata": {},
   "outputs": [
    {
     "data": {
      "text/plain": [
       "ChatCompletionMessage(content='{\\n  \"name\": \"sunny savita\", \\n  \"college\": \"IIT delhi\",\\n  \"grades\": \"8.5 GPA\",\\n  \"club\": \"AI club\"\\n}', role='assistant', function_call=None, tool_calls=None)"
      ]
     },
     "execution_count": 121,
     "metadata": {},
     "output_type": "execute_result"
    }
   ],
   "source": [
    "response.choices[2].message"
   ]
  },
  {
   "cell_type": "code",
   "execution_count": 127,
   "id": "3c536d6a-b34c-4135-a155-515db532f204",
   "metadata": {},
   "outputs": [],
   "source": [
    "output=response.choices[2].message.content"
   ]
  },
  {
   "cell_type": "code",
   "execution_count": 126,
   "id": "ea6fefd6-28e2-4be8-b34c-31a3641b263c",
   "metadata": {},
   "outputs": [
    {
     "data": {
      "text/plain": [
       "'{\\n  \"name\": \"sunny savita\", \\n  \"college\": \"IIT delhi\",\\n  \"grades\": \"8.5 GPA\",\\n  \"club\": \"AI club\"\\n}'"
      ]
     },
     "execution_count": 126,
     "metadata": {},
     "output_type": "execute_result"
    }
   ],
   "source": [
    "output"
   ]
  },
  {
   "cell_type": "code",
   "execution_count": 125,
   "id": "681489ce-4277-4dbf-ac13-fe7921141f78",
   "metadata": {},
   "outputs": [
    {
     "data": {
      "text/plain": [
       "{'name': 'sunny savita',\n",
       " 'college': 'IIT delhi',\n",
       " 'grades': '8.5 GPA',\n",
       " 'club': 'AI club'}"
      ]
     },
     "execution_count": 125,
     "metadata": {},
     "output_type": "execute_result"
    }
   ],
   "source": [
    "import json\n",
    "json.loads(output)"
   ]
  },
  {
   "cell_type": "code",
   "execution_count": 134,
   "id": "c375a9d8-6538-45b9-94fa-e64bc84a7f00",
   "metadata": {},
   "outputs": [],
   "source": [
    "student_custom_function=[\n",
    "    {\n",
    "        \"name\" :\"extract_student_info\",\n",
    "        \"description\":\"Get the student information from the body of the input text\",\n",
    "        \"parameters\":{\n",
    "            \"type\" :\"object\",\n",
    "             \"properties\": {\n",
    "                        \"name\": {\n",
    "                            \"type\": \"string\",\n",
    "                            \"description\": \"Name of the student\",\n",
    "                        },\n",
    "                     \"college\": {\n",
    "                            \"type\": \"string\",\n",
    "                            \"description\": \"The collage name.\",\n",
    "                        },\n",
    "                 \"grades\": {\n",
    "                            \"type\": \"string\",\n",
    "                            \"description\": \"CGPA of the studen\",\n",
    "                        },\n",
    "                 \"club\": {\n",
    "                            \"type\": \"string\",\n",
    "                            \"description\": \"AI club\",\n",
    "                        }\n",
    "                },\n",
    "        }\n",
    "    }\n",
    "    \n",
    "    \n",
    "]"
   ]
  },
  {
   "cell_type": "code",
   "execution_count": 138,
   "id": "443301a0-69dd-491c-a29f-f20ad97ae8a9",
   "metadata": {},
   "outputs": [],
   "source": [
    "stdresponse=client.chat.completions.create(  \n",
    "    model=\"gpt-4\",\n",
    "    messages=[{\"role\": \"user\", \"content\": prompt}],\n",
    "    functions=student_custom_function\n",
    "    )"
   ]
  },
  {
   "cell_type": "code",
   "execution_count": 139,
   "id": "74139c2f-b4f0-477d-8516-f37cc330db65",
   "metadata": {},
   "outputs": [
    {
     "data": {
      "text/plain": [
       "ChatCompletion(id='chatcmpl-9mPsuX2nYIiRSFpklwgPjVynCpm8I', choices=[Choice(finish_reason='function_call', index=0, logprobs=None, message=ChatCompletionMessage(content=None, role='assistant', function_call=FunctionCall(arguments='{\\n  \"name\": \"sunny savita\",\\n  \"college\": \"IIT delhi\",\\n  \"grades\": \"8.5 GPA\",\\n  \"club\": \"AI club\"\\n}', name='extract_student_info'), tool_calls=None))], created=1721326272, model='gpt-4-0613', object='chat.completion', service_tier=None, system_fingerprint=None, usage=CompletionUsage(completion_tokens=47, prompt_tokens=190, total_tokens=237))"
      ]
     },
     "execution_count": 139,
     "metadata": {},
     "output_type": "execute_result"
    }
   ],
   "source": [
    "stdresponse"
   ]
  },
  {
   "cell_type": "code",
   "execution_count": 140,
   "id": "ce98d447-9bbf-4dd8-b39d-0c07766d6084",
   "metadata": {},
   "outputs": [
    {
     "data": {
      "text/plain": [
       "[Choice(finish_reason='function_call', index=0, logprobs=None, message=ChatCompletionMessage(content=None, role='assistant', function_call=FunctionCall(arguments='{\\n  \"name\": \"sunny savita\",\\n  \"college\": \"IIT delhi\",\\n  \"grades\": \"8.5 GPA\",\\n  \"club\": \"AI club\"\\n}', name='extract_student_info'), tool_calls=None))]"
      ]
     },
     "execution_count": 140,
     "metadata": {},
     "output_type": "execute_result"
    }
   ],
   "source": [
    "stdresponse.choices"
   ]
  },
  {
   "cell_type": "code",
   "execution_count": 141,
   "id": "16e4a424-bbdf-4ca5-be4f-0ede47a0d689",
   "metadata": {},
   "outputs": [
    {
     "data": {
      "text/plain": [
       "Choice(finish_reason='function_call', index=0, logprobs=None, message=ChatCompletionMessage(content=None, role='assistant', function_call=FunctionCall(arguments='{\\n  \"name\": \"sunny savita\",\\n  \"college\": \"IIT delhi\",\\n  \"grades\": \"8.5 GPA\",\\n  \"club\": \"AI club\"\\n}', name='extract_student_info'), tool_calls=None))"
      ]
     },
     "execution_count": 141,
     "metadata": {},
     "output_type": "execute_result"
    }
   ],
   "source": [
    "stdresponse.choices[0]"
   ]
  },
  {
   "cell_type": "code",
   "execution_count": 142,
   "id": "9abcbfc2-20d1-466f-8927-fffb7c636911",
   "metadata": {},
   "outputs": [
    {
     "data": {
      "text/plain": [
       "ChatCompletionMessage(content=None, role='assistant', function_call=FunctionCall(arguments='{\\n  \"name\": \"sunny savita\",\\n  \"college\": \"IIT delhi\",\\n  \"grades\": \"8.5 GPA\",\\n  \"club\": \"AI club\"\\n}', name='extract_student_info'), tool_calls=None)"
      ]
     },
     "execution_count": 142,
     "metadata": {},
     "output_type": "execute_result"
    }
   ],
   "source": [
    "stdresponse.choices[0].message"
   ]
  },
  {
   "cell_type": "code",
   "execution_count": 144,
   "id": "1d002a83-78d2-4398-b199-a64e70375318",
   "metadata": {},
   "outputs": [],
   "source": [
    "stoutput=stdresponse.choices[0].message.function_call.arguments"
   ]
  },
  {
   "cell_type": "code",
   "execution_count": 145,
   "id": "45e99caa-1936-48dd-930c-87771de7d7b8",
   "metadata": {},
   "outputs": [
    {
     "data": {
      "text/plain": [
       "{'name': 'sunny savita',\n",
       " 'college': 'IIT delhi',\n",
       " 'grades': '8.5 GPA',\n",
       " 'club': 'AI club'}"
      ]
     },
     "execution_count": 145,
     "metadata": {},
     "output_type": "execute_result"
    }
   ],
   "source": [
    "json.loads(stoutput)"
   ]
  },
  {
   "cell_type": "code",
   "execution_count": 146,
   "id": "b8bdcfd1-7d56-4557-9feb-ca4aaa34f9eb",
   "metadata": {},
   "outputs": [
    {
     "data": {
      "text/plain": [
       "dict"
      ]
     },
     "execution_count": 146,
     "metadata": {},
     "output_type": "execute_result"
    }
   ],
   "source": [
    "type(json.loads(stoutput))"
   ]
  },
  {
   "cell_type": "code",
   "execution_count": 153,
   "id": "1f2afc10-f75e-4b8c-bcfd-661241165552",
   "metadata": {},
   "outputs": [],
   "source": [
    "student_01=\"sunny savita is a student of computer science at IIT delhi. He is an indian and has a 8.5 GPA. sunny is known for his programming skills and is an active member of the college's AI club. He hopes to pursue a career in artificial intelligence after graduating.\""
   ]
  },
  {
   "cell_type": "code",
   "execution_count": 154,
   "id": "065a10c7-67ce-4020-811d-55c27a012125",
   "metadata": {},
   "outputs": [
    {
     "data": {
      "text/plain": [
       "\"sunny savita is a student of computer science at IIT delhi. He is an indian and has a 8.5 GPA. sunny is known for his programming skills and is an active member of the college's AI club. He hopes to pursue a career in artificial intelligence after graduating.\""
      ]
     },
     "execution_count": 154,
     "metadata": {},
     "output_type": "execute_result"
    }
   ],
   "source": [
    "student_01"
   ]
  },
  {
   "cell_type": "code",
   "execution_count": 155,
   "id": "ba727a3a-7f02-473a-9f2b-499e0e5b7a40",
   "metadata": {},
   "outputs": [],
   "source": [
    "student_02=\"anjali sharma is a student of electrical engineering at IIT bombay. She is an indian and has a 9.0 GPA. anjali is known for her research in renewable energy sources and is the president of the college's Green Tech society. She aims to work in sustainable technology after graduation.\""
   ]
  },
  {
   "cell_type": "code",
   "execution_count": 156,
   "id": "ec9693c7-221b-422b-abcc-8e99ebf5a288",
   "metadata": {},
   "outputs": [
    {
     "data": {
      "text/plain": [
       "\"anjali sharma is a student of electrical engineering at IIT bombay. She is an indian and has a 9.0 GPA. anjali is known for her research in renewable energy sources and is the president of the college's Green Tech society. She aims to work in sustainable technology after graduation.\""
      ]
     },
     "execution_count": 156,
     "metadata": {},
     "output_type": "execute_result"
    }
   ],
   "source": [
    "student_02"
   ]
  },
  {
   "cell_type": "code",
   "execution_count": 157,
   "id": "dd4f2da1-2a86-4f52-8211-551caf5d4834",
   "metadata": {},
   "outputs": [],
   "source": [
    "student_03=\"rajesh kumar is a student of mechanical engineering at IIT madras. He is an indian and has a 8.7 GPA. rajesh is recognized for his innovative design projects and is a key member of the Robotics club. He plans to enter the field of robotics and automation after completing his degree.\""
   ]
  },
  {
   "cell_type": "code",
   "execution_count": 159,
   "id": "b5556ed8-ac4d-4ff1-a451-d622ed04dd2d",
   "metadata": {},
   "outputs": [
    {
     "data": {
      "text/plain": [
       "'rajesh kumar is a student of mechanical engineering at IIT madras. He is an indian and has a 8.7 GPA. rajesh is recognized for his innovative design projects and is a key member of the Robotics club. He plans to enter the field of robotics and automation after completing his degree.'"
      ]
     },
     "execution_count": 159,
     "metadata": {},
     "output_type": "execute_result"
    }
   ],
   "source": [
    "student_03"
   ]
  },
  {
   "cell_type": "code",
   "execution_count": null,
   "id": "af7db555-7eeb-4f92-a589-3d5c8d8e0c3b",
   "metadata": {},
   "outputs": [],
   "source": []
  }
 ],
 "metadata": {
  "kernelspec": {
   "display_name": "Python 3 (ipykernel)",
   "language": "python",
   "name": "python3"
  },
  "language_info": {
   "codemirror_mode": {
    "name": "ipython",
    "version": 3
   },
   "file_extension": ".py",
   "mimetype": "text/x-python",
   "name": "python",
   "nbconvert_exporter": "python",
   "pygments_lexer": "ipython3",
   "version": "3.12.4"
  }
 },
 "nbformat": 4,
 "nbformat_minor": 5
}
