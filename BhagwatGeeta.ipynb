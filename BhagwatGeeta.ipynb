{
 "cells": [
  {
   "cell_type": "code",
   "execution_count": null,
   "id": "b499b4a8-ad2a-451e-8bdc-cd36be449ff0",
   "metadata": {},
   "outputs": [],
   "source": []
  },
  {
   "cell_type": "code",
   "execution_count": 79,
   "id": "2b72fd28-30e7-4e91-8a66-4d48e5dfb2cb",
   "metadata": {},
   "outputs": [],
   "source": [
    "from openai import OpenAI\n",
    "from PIL import Image, ImageDraw, ImageFont\n",
    "from moviepy.editor import ImageClip, concatenate_videoclips\n",
    "import os\n",
    "client = OpenAI(api_key = '')\n",
    "\n",
    "    \n",
    "  "
   ]
  },
  {
   "cell_type": "code",
   "execution_count": 82,
   "id": "ba41616b-29b5-4153-84c3-74099ef5ad6b",
   "metadata": {},
   "outputs": [],
   "source": [
    "prompt = (\n",
    "        \"Generate a daily spiritual quote from the Mahabharata, including a teaching or wisdom from this epic. \"\n",
    "        \"Provide the quote in English and include a brief context.\"\n",
    "    )\n",
    "   "
   ]
  },
  {
   "cell_type": "code",
   "execution_count": 89,
   "id": "6f8a1ca9-9c9e-4112-9d5c-21a1b3e9d614",
   "metadata": {},
   "outputs": [
    {
     "ename": "TypeError",
     "evalue": "Missing required arguments; Expected either ('messages' and 'model') or ('messages', 'model' and 'stream') arguments to be given",
     "output_type": "error",
     "traceback": [
      "\u001b[1;31m---------------------------------------------------------------------------\u001b[0m",
      "\u001b[1;31mTypeError\u001b[0m                                 Traceback (most recent call last)",
      "Cell \u001b[1;32mIn[89], line 1\u001b[0m\n\u001b[1;32m----> 1\u001b[0m response \u001b[38;5;241m=\u001b[39m \u001b[43mclient\u001b[49m\u001b[38;5;241;43m.\u001b[39;49m\u001b[43mchat\u001b[49m\u001b[38;5;241;43m.\u001b[39;49m\u001b[43mcompletions\u001b[49m\u001b[38;5;241;43m.\u001b[39;49m\u001b[43mcreate\u001b[49m\u001b[43m(\u001b[49m\n\u001b[0;32m      2\u001b[0m \u001b[43m      \u001b[49m\u001b[43mmodel\u001b[49m\u001b[38;5;241;43m=\u001b[39;49m\u001b[38;5;124;43m\"\u001b[39;49m\u001b[38;5;124;43mgpt-4\u001b[39;49m\u001b[38;5;124;43m\"\u001b[39;49m\u001b[43m,\u001b[49m\u001b[43m  \u001b[49m\u001b[38;5;66;43;03m# Use a text model for generating quotes\u001b[39;49;00m\n\u001b[0;32m      3\u001b[0m \u001b[43m       \u001b[49m\u001b[43mprompt\u001b[49m\u001b[38;5;241;43m=\u001b[39;49m\u001b[43mprompt\u001b[49m\u001b[43m,\u001b[49m\n\u001b[0;32m      4\u001b[0m \u001b[43m       \u001b[49m\u001b[43mmax_tokens\u001b[49m\u001b[38;5;241;43m=\u001b[39;49m\u001b[38;5;241;43m100\u001b[39;49m\n\u001b[0;32m      5\u001b[0m \u001b[43m   \u001b[49m\u001b[43m)\u001b[49m\n",
      "File \u001b[1;32m~\\AppData\\Local\\anaconda3\\envs\\genai\\Lib\\site-packages\\openai\\_utils\\_utils.py:276\u001b[0m, in \u001b[0;36mrequired_args.<locals>.inner.<locals>.wrapper\u001b[1;34m(*args, **kwargs)\u001b[0m\n\u001b[0;32m    274\u001b[0m         \u001b[38;5;28;01melse\u001b[39;00m:\n\u001b[0;32m    275\u001b[0m             msg \u001b[38;5;241m=\u001b[39m \u001b[38;5;124mf\u001b[39m\u001b[38;5;124m\"\u001b[39m\u001b[38;5;124mMissing required argument: \u001b[39m\u001b[38;5;132;01m{\u001b[39;00mquote(missing[\u001b[38;5;241m0\u001b[39m])\u001b[38;5;132;01m}\u001b[39;00m\u001b[38;5;124m\"\u001b[39m\n\u001b[1;32m--> 276\u001b[0m     \u001b[38;5;28;01mraise\u001b[39;00m \u001b[38;5;167;01mTypeError\u001b[39;00m(msg)\n\u001b[0;32m    277\u001b[0m \u001b[38;5;28;01mreturn\u001b[39;00m func(\u001b[38;5;241m*\u001b[39margs, \u001b[38;5;241m*\u001b[39m\u001b[38;5;241m*\u001b[39mkwargs)\n",
      "\u001b[1;31mTypeError\u001b[0m: Missing required arguments; Expected either ('messages' and 'model') or ('messages', 'model' and 'stream') arguments to be given"
     ]
    }
   ],
   "source": [
    " response = client.chat.completions.create(\n",
    "       model=\"gpt-4\",  # Use a text model for generating quotes\n",
    "        prompt=prompt,\n",
    "        max_tokens=100\n",
    "    )\n"
   ]
  },
  {
   "cell_type": "code",
   "execution_count": 88,
   "id": "24ae2053-bdcf-4926-9785-346e8944e046",
   "metadata": {},
   "outputs": [
    {
     "ename": "NameError",
     "evalue": "name 'quote' is not defined",
     "output_type": "error",
     "traceback": [
      "\u001b[1;31m---------------------------------------------------------------------------\u001b[0m",
      "\u001b[1;31mNameError\u001b[0m                                 Traceback (most recent call last)",
      "Cell \u001b[1;32mIn[88], line 1\u001b[0m\n\u001b[1;32m----> 1\u001b[0m \u001b[43mquote\u001b[49m\n",
      "\u001b[1;31mNameError\u001b[0m: name 'quote' is not defined"
     ]
    }
   ],
   "source": [
    "quote"
   ]
  },
  {
   "cell_type": "code",
   "execution_count": null,
   "id": "f0f8e737-b6e8-4dfa-a6f9-b56eb853648f",
   "metadata": {},
   "outputs": [],
   "source": [
    "'''def generate_image_with_quote(quote):\n",
    "    # Generate Mahabharata-themed image\n",
    "    img = generate_mahabharata_image()\n",
    "    draw = ImageDraw.Draw(img)\n",
    "    \n",
    "    # Load a font\n",
    "    try:\n",
    "        font = ImageFont.truetype(\"arial.ttf\", 20)\n",
    "    except IOError:\n",
    "        font = ImageFont.load_default()\n",
    "    \n",
    "    # Wrap text and calculate text size\n",
    "    def wrap_text(text, font, max_width):\n",
    "        lines = []\n",
    "        words = text.split()\n",
    "        while words:\n",
    "            line = ''\n",
    "            while words and font.getsize(line + words[0])[0] <= max_width:\n",
    "                line += (words.pop(0) + ' ')\n",
    "            lines.append(line)\n",
    "        return lines\n",
    "    \n",
    "    wrapped_text = wrap_text(quote, font, img.width - 40)  # 40 for margins\n",
    "    total_height = sum(font.getsize(line)[1] for line in wrapped_text)\n",
    "    \n",
    "    # Position text at the center\n",
    "    y_offset = (img.height - total_height) / 2\n",
    "    for line in wrapped_text:\n",
    "        text_width, text_height = draw.textsize(line, font=font)\n",
    "        x = (img.width - text_width) / 2\n",
    "        draw.text((x, y_offset), line, fill=(255, 255, 255), font=font)  # White text\n",
    "        y_offset += text_height\n",
    "\n",
    "    # Save the image\n",
    "    img.save(\"mahabharata_quote_image.png\")\n",
    "\n",
    "def main():\n",
    "    quote = generate_quote()\n",
    "    print(\"Generated Quote:\\n\", quote)  # Print the quote text\n",
    "    generate_image_with_quote(quote)\n",
    "    print(\"Image generated and saved as mahabharata_quote_image.png\")\n",
    "\n",
    "if __name__ == \"__main__\":\n",
    "    main()"
   ]
  },
  {
   "cell_type": "code",
   "execution_count": null,
   "id": "32117209-80e9-4968-aa5e-c2e5211c4777",
   "metadata": {},
   "outputs": [],
   "source": []
  },
  {
   "cell_type": "code",
   "execution_count": null,
   "id": "de748806-24af-4105-9bbc-0cc790ffd09c",
   "metadata": {},
   "outputs": [],
   "source": []
  },
  {
   "cell_type": "code",
   "execution_count": null,
   "id": "4afd1954-5470-41b5-a809-637e2ade457c",
   "metadata": {
    "scrolled": true
   },
   "outputs": [],
   "source": []
  },
  {
   "cell_type": "code",
   "execution_count": null,
   "id": "3993d800-f54b-45fd-b10b-e510f077c00a",
   "metadata": {},
   "outputs": [],
   "source": []
  },
  {
   "cell_type": "code",
   "execution_count": null,
   "id": "5b6f5158-127a-48ab-81ca-7b37f3cae944",
   "metadata": {},
   "outputs": [],
   "source": []
  }
 ],
 "metadata": {
  "kernelspec": {
   "display_name": "Python 3 (ipykernel)",
   "language": "python",
   "name": "python3"
  },
  "language_info": {
   "codemirror_mode": {
    "name": "ipython",
    "version": 3
   },
   "file_extension": ".py",
   "mimetype": "text/x-python",
   "name": "python",
   "nbconvert_exporter": "python",
   "pygments_lexer": "ipython3",
   "version": "3.12.4"
  }
 },
 "nbformat": 4,
 "nbformat_minor": 5
}
