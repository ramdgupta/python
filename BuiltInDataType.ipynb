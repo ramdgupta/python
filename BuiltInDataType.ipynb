{
  "nbformat": 4,
  "nbformat_minor": 0,
  "metadata": {
    "colab": {
      "provenance": [],
      "authorship_tag": "ABX9TyOdjzzSrODlQAhbT8kypF8k",
      "include_colab_link": true
    },
    "kernelspec": {
      "name": "python3",
      "display_name": "Python 3"
    },
    "language_info": {
      "name": "python"
    }
  },
  "cells": [
    {
      "cell_type": "markdown",
      "metadata": {
        "id": "view-in-github",
        "colab_type": "text"
      },
      "source": [
        "<a href=\"https://colab.research.google.com/github/ramdgupta/python/blob/main/BuiltInDataType.ipynb\" target=\"_parent\"><img src=\"https://colab.research.google.com/assets/colab-badge.svg\" alt=\"Open In Colab\"/></a>"
      ]
    },
    {
      "cell_type": "code",
      "execution_count": 1,
      "metadata": {
        "colab": {
          "base_uri": "https://localhost:8080/"
        },
        "id": "KIK6X508kGCs",
        "outputId": "7ce64716-2b1b-4268-a653-00e3b52da252"
      },
      "outputs": [
        {
          "output_type": "stream",
          "name": "stdout",
          "text": [
            "10\n",
            "<class 'int'>\n"
          ]
        }
      ],
      "source": [
        "'''Integer Data type'''\n",
        "x=10 # int x=10\n",
        "print(x)\n",
        "print(type(x))"
      ]
    },
    {
      "cell_type": "code",
      "source": [
        "'''Float'''\n",
        "y=10.57\n",
        "print(y)\n",
        "print(type(y))"
      ],
      "metadata": {
        "colab": {
          "base_uri": "https://localhost:8080/"
        },
        "id": "hnhAKm-SlKyV",
        "outputId": "0999945a-b00e-4f6d-c2bb-375b5681f170"
      },
      "execution_count": 2,
      "outputs": [
        {
          "output_type": "stream",
          "name": "stdout",
          "text": [
            "10.57\n",
            "<class 'float'>\n"
          ]
        }
      ]
    },
    {
      "cell_type": "code",
      "source": [
        "'''String method'''\n",
        "z=\"Hello friend\"\n",
        "print(z)\n",
        "print(type(z))"
      ],
      "metadata": {
        "colab": {
          "base_uri": "https://localhost:8080/"
        },
        "id": "I4TFswiSm2eF",
        "outputId": "0323a643-695f-4968-905c-83c17a530f06"
      },
      "execution_count": 3,
      "outputs": [
        {
          "output_type": "stream",
          "name": "stdout",
          "text": [
            "Hello friend\n",
            "<class 'str'>\n"
          ]
        }
      ]
    },
    {
      "cell_type": "code",
      "source": [
        "c =\"H\"\n",
        "print(c)\n",
        "print(type(c))"
      ],
      "metadata": {
        "colab": {
          "base_uri": "https://localhost:8080/"
        },
        "id": "1awyeHK8mWO6",
        "outputId": "488f026c-d8bd-43ed-ded2-b58882a67101"
      },
      "execution_count": 4,
      "outputs": [
        {
          "output_type": "stream",
          "name": "stdout",
          "text": [
            "H\n",
            "<class 'str'>\n"
          ]
        }
      ]
    },
    {
      "cell_type": "code",
      "source": [
        "'''Boolean Data Type'''\n",
        "q=True\n",
        "print(q)\n",
        "print(type(q))"
      ],
      "metadata": {
        "colab": {
          "base_uri": "https://localhost:8080/"
        },
        "id": "U1EGoVwXnKzM",
        "outputId": "7c1d08e9-9236-41d7-ad82-677096ca68e3"
      },
      "execution_count": 5,
      "outputs": [
        {
          "output_type": "stream",
          "name": "stdout",
          "text": [
            "True\n",
            "<class 'bool'>\n"
          ]
        }
      ]
    },
    {
      "cell_type": "code",
      "source": [
        "# list, set tuple and dictionary\n"
      ],
      "metadata": {
        "id": "73jRGLQnpgwG"
      },
      "execution_count": 6,
      "outputs": []
    },
    {
      "cell_type": "code",
      "source": [
        "newlist =[45,67,89,11,45,89,\"Hello friend\", 45,.56, True, 'H', 4+67]\n",
        "print(newlist)\n",
        "print(type(newlist))"
      ],
      "metadata": {
        "colab": {
          "base_uri": "https://localhost:8080/"
        },
        "id": "4GnNgszoplfm",
        "outputId": "59adc9a0-c433-4432-c343-1ada13271a13"
      },
      "execution_count": 7,
      "outputs": [
        {
          "output_type": "stream",
          "name": "stdout",
          "text": [
            "[45, 67, 89, 11, 45, 89, 'Hello friend', 45, 0.56, True, 'H', 71]\n",
            "<class 'list'>\n"
          ]
        }
      ]
    },
    {
      "cell_type": "code",
      "source": [
        "print(newlist[3])"
      ],
      "metadata": {
        "colab": {
          "base_uri": "https://localhost:8080/"
        },
        "id": "qZ4PV4VQqaSE",
        "outputId": "17b1e1b9-c206-4197-b31d-ebb81e76c86b"
      },
      "execution_count": 8,
      "outputs": [
        {
          "output_type": "stream",
          "name": "stdout",
          "text": [
            "11\n"
          ]
        }
      ]
    },
    {
      "cell_type": "code",
      "source": [
        "newlist[3] = 100.45\n",
        "print(newlist[3])\n"
      ],
      "metadata": {
        "colab": {
          "base_uri": "https://localhost:8080/"
        },
        "id": "NSOeeLrXqrTB",
        "outputId": "06ba4eb4-91e7-4604-c667-f0285991b7d4"
      },
      "execution_count": 9,
      "outputs": [
        {
          "output_type": "stream",
          "name": "stdout",
          "text": [
            "100.45\n"
          ]
        }
      ]
    },
    {
      "cell_type": "code",
      "source": [
        "newlist.sort()\n",
        "\n"
      ],
      "metadata": {
        "colab": {
          "base_uri": "https://localhost:8080/",
          "height": 159
        },
        "id": "oIZwZeRWsPuz",
        "outputId": "5a85b0bb-ba0a-4722-eb75-fb79a84cadde"
      },
      "execution_count": 10,
      "outputs": [
        {
          "output_type": "error",
          "ename": "TypeError",
          "evalue": "'<' not supported between instances of 'str' and 'int'",
          "traceback": [
            "\u001b[0;31m---------------------------------------------------------------------------\u001b[0m",
            "\u001b[0;31mTypeError\u001b[0m                                 Traceback (most recent call last)",
            "\u001b[0;32m<ipython-input-10-40d01a0bde04>\u001b[0m in \u001b[0;36m<cell line: 1>\u001b[0;34m()\u001b[0m\n\u001b[0;32m----> 1\u001b[0;31m \u001b[0mnewlist\u001b[0m\u001b[0;34m.\u001b[0m\u001b[0msort\u001b[0m\u001b[0;34m(\u001b[0m\u001b[0;34m)\u001b[0m\u001b[0;34m\u001b[0m\u001b[0;34m\u001b[0m\u001b[0m\n\u001b[0m\u001b[1;32m      2\u001b[0m \u001b[0;34m\u001b[0m\u001b[0m\n",
            "\u001b[0;31mTypeError\u001b[0m: '<' not supported between instances of 'str' and 'int'"
          ]
        }
      ]
    },
    {
      "cell_type": "code",
      "source": [
        "newlist.pop()\n"
      ],
      "metadata": {
        "id": "1VOzpUTNqz3S"
      },
      "execution_count": null,
      "outputs": []
    },
    {
      "cell_type": "code",
      "source": [
        "newlist.sort\n",
        "\n"
      ],
      "metadata": {
        "id": "7JOQdcgfskeJ"
      },
      "execution_count": null,
      "outputs": []
    },
    {
      "cell_type": "code",
      "source": [
        "print(newlist)"
      ],
      "metadata": {
        "id": "5jn0cO7hq93f"
      },
      "execution_count": null,
      "outputs": []
    },
    {
      "cell_type": "code",
      "source": [
        "newlist.remove(89)"
      ],
      "metadata": {
        "id": "fJTxyaeyrUIe"
      },
      "execution_count": null,
      "outputs": []
    },
    {
      "cell_type": "code",
      "source": [
        "newlist"
      ],
      "metadata": {
        "id": "k7W9fd_vrZQV"
      },
      "execution_count": null,
      "outputs": []
    },
    {
      "cell_type": "code",
      "source": [
        "newlist.remove(89)"
      ],
      "metadata": {
        "id": "Wia5zDi4rrFg"
      },
      "execution_count": null,
      "outputs": []
    },
    {
      "cell_type": "code",
      "source": [
        "newlist"
      ],
      "metadata": {
        "id": "bbNui5Zvrt1Y"
      },
      "execution_count": null,
      "outputs": []
    },
    {
      "cell_type": "code",
      "source": [
        "newlist.append(90)"
      ],
      "metadata": {
        "id": "1vU1TJSgrwWp"
      },
      "execution_count": null,
      "outputs": []
    },
    {
      "cell_type": "code",
      "source": [
        "newlist"
      ],
      "metadata": {
        "id": "tc9tHXrrrzwm"
      },
      "execution_count": null,
      "outputs": []
    },
    {
      "cell_type": "code",
      "source": [
        "#touple\n",
        "\n"
      ],
      "metadata": {
        "id": "jQq6j59HsRxg"
      },
      "execution_count": null,
      "outputs": []
    },
    {
      "cell_type": "code",
      "source": [
        "newtpl = (56,45,45,77,54,77)\n",
        "newtpl"
      ],
      "metadata": {
        "id": "PR4FgKD-stn1"
      },
      "execution_count": null,
      "outputs": []
    },
    {
      "cell_type": "code",
      "source": [
        "newtpl[1]"
      ],
      "metadata": {
        "id": "UIh7bqvqtDrc"
      },
      "execution_count": null,
      "outputs": []
    },
    {
      "cell_type": "code",
      "source": [],
      "metadata": {
        "id": "qkpijmUbtVF-"
      },
      "execution_count": null,
      "outputs": []
    },
    {
      "cell_type": "code",
      "source": [
        "newtpl[0]=100"
      ],
      "metadata": {
        "id": "uNThG-A6tZtW"
      },
      "execution_count": null,
      "outputs": []
    },
    {
      "cell_type": "code",
      "source": [
        "newtpl.count(77)"
      ],
      "metadata": {
        "id": "4JVrR44Lte2-"
      },
      "execution_count": null,
      "outputs": []
    },
    {
      "cell_type": "code",
      "source": [
        "newtpl.index(77)"
      ],
      "metadata": {
        "id": "wW9mm9ZTvCkl"
      },
      "execution_count": null,
      "outputs": []
    },
    {
      "cell_type": "code",
      "source": [
        "# dictionary"
      ],
      "metadata": {
        "id": "nSQvCcUlxCvt"
      },
      "execution_count": null,
      "outputs": []
    },
    {
      "cell_type": "code",
      "source": [
        "newdict ={\"friend\": 56, 45:56.67}\n",
        "newdict\n"
      ],
      "metadata": {
        "id": "3-OFfck4wqsH"
      },
      "execution_count": null,
      "outputs": []
    },
    {
      "cell_type": "code",
      "source": [
        "newdict[\"meloni\"] = 2\n",
        "newdict"
      ],
      "metadata": {
        "id": "1opximlYw5HC"
      },
      "execution_count": null,
      "outputs": []
    },
    {
      "cell_type": "code",
      "source": [
        "newdict[\"Meloni\"] = 29\n",
        "newdict"
      ],
      "metadata": {
        "id": "RyoMSUiHw-wb"
      },
      "execution_count": null,
      "outputs": []
    },
    {
      "cell_type": "code",
      "source": [
        "newdict[67] =\"friend\"\n",
        "newdict\n"
      ],
      "metadata": {
        "id": "xc7XINkdxLYH"
      },
      "execution_count": null,
      "outputs": []
    },
    {
      "cell_type": "code",
      "source": [
        "newdict[1]\n",
        "newdict"
      ],
      "metadata": {
        "id": "tPNygVRpxpFI"
      },
      "execution_count": null,
      "outputs": []
    },
    {
      "cell_type": "code",
      "source": [
        "newdict['meloni']\n"
      ],
      "metadata": {
        "id": "S0nCw5Mlxzmm"
      },
      "execution_count": null,
      "outputs": []
    },
    {
      "cell_type": "code",
      "source": [
        "newdict.keys()"
      ],
      "metadata": {
        "id": "i1dUwg6Zxqyu"
      },
      "execution_count": null,
      "outputs": []
    },
    {
      "cell_type": "code",
      "source": [
        "newdict.values()"
      ],
      "metadata": {
        "id": "Gbsx2svEyK-H"
      },
      "execution_count": null,
      "outputs": []
    },
    {
      "cell_type": "code",
      "source": [
        "newdict.items()\n"
      ],
      "metadata": {
        "id": "0pOVSLbwyPSE"
      },
      "execution_count": null,
      "outputs": []
    },
    {
      "cell_type": "code",
      "source": [
        "#Exercise 1: Calculate the multiplication and sum of two numbers\n",
        "#Given two integer numbers, return their product only if the product is equal to or lower than 1000. Otherwise, return their sum.\n",
        "\n",
        "def multiplication_or_sum(num1, num2) :\n",
        "  # calculate product of two number\n",
        "  pd = num1* num2\n",
        "  # check if product is less then 1000\n",
        "  if(pd<=1000) :\n",
        "    return pd\n",
        "  # product is greater than 1000 calculate sum\n",
        "  else :\n",
        "    return num1 + num2\n",
        "# first condition\n",
        "result = multiplication_or_sum(100, 200)\n",
        "print(\"The result is :\", result )\n",
        "# Second condition\n",
        "result = multiplication_or_sum(10,20)\n",
        "print(\"The result is :\", result)\n"
      ],
      "metadata": {
        "id": "9m-E8H7V0YFy"
      },
      "execution_count": null,
      "outputs": []
    },
    {
      "cell_type": "code",
      "source": [
        "#Exercise 2: Print the sum of the current number and the previous number\n",
        "#Write a program to iterate the first 10 numbers, and in each iteration, print the sum of the current and previous number.\n",
        "print(\"Printing current and previous number and their sum in a range(10)\")\n",
        "previous_num=0\n",
        "for i in range(1,11) :\n",
        "  sum = previous_num + i\n",
        "  print(\"Current Number\", i, \"Previous Number \", previous_num, \" Sum: \", sum)\n",
        "  # modify previous number\n",
        "  # set it to the current number\n",
        "  previous_num=i\n",
        "\n"
      ],
      "metadata": {
        "id": "Vt0di5S2Ct3h"
      },
      "execution_count": null,
      "outputs": []
    },
    {
      "cell_type": "code",
      "source": [
        "#Exercise 3: Print characters from a string that are present at an even index number\n",
        "#Write a program to accept a string from the user and display characters that are present at an even index number.\n",
        "# accept input string from a user\n",
        "word = input('Enter word ')\n",
        "print(\"Original String:\", word)\n",
        "\n",
        "# get the length of a string\n",
        "length = len(word)\n",
        "\n",
        "# iterate a each character of a string\n",
        "# start: 0 to start with first character\n",
        "# stop: size-1 because index starts with 0\n",
        "# step: 2 to get the characters present at even index like 0, 2, 4\n",
        "print(\"Printing only even index chars\")\n",
        "for i in range(0, length - 1, 2):\n",
        "    print(\"index[\", i, \"]\", word[i])\n"
      ],
      "metadata": {
        "id": "YMZUr4HWF7Fm"
      },
      "execution_count": null,
      "outputs": []
    },
    {
      "cell_type": "code",
      "source": [
        "#Exercise 4: Remove first n characters from a string\n",
        "#Write a program to remove characters from a string starting from zero up to n and return a new string.\n",
        "#create a function removeNCharInString\n",
        "def remove_chars(word,n):\n",
        "  print('Original string :', word)\n",
        "  x=word[n:]\n",
        "  return x\n",
        "print(\"Removing characters from a string: \")\n",
        "print(remove_chars(\"RamDulare\", 4))\n",
        "print(remove_chars(\"RamDulare\", 2))\n"
      ],
      "metadata": {
        "colab": {
          "base_uri": "https://localhost:8080/"
        },
        "id": "OCVNoZZnElwl",
        "outputId": "192c0544-7d12-47b8-dd43-b7c0aa1e7b90"
      },
      "execution_count": 15,
      "outputs": [
        {
          "output_type": "stream",
          "name": "stdout",
          "text": [
            "Removing characters from a string: \n",
            "Original string : RamDulare\n",
            "ulare\n",
            "Original string : RamDulare\n",
            "mDulare\n"
          ]
        }
      ]
    },
    {
      "cell_type": "code",
      "source": [
        "print(\"chai and code\")"
      ],
      "metadata": {
        "colab": {
          "base_uri": "https://localhost:8080/"
        },
        "id": "yHFfgMqB6QYc",
        "outputId": "4266a5e4-bf1d-46f9-b06e-894ac94e4e1e"
      },
      "execution_count": 16,
      "outputs": [
        {
          "output_type": "stream",
          "name": "stdout",
          "text": [
            "chai and code\n"
          ]
        }
      ]
    }
  ]
}